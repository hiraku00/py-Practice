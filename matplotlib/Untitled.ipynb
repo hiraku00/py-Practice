{
 "cells": [
  {
   "cell_type": "markdown",
   "metadata": {},
   "source": [
    "<div style=\"font-size:20px; color:pink; margin:20px\">\n",
    "matplotlib で棒グラフを描く\n",
    "</div>\n",
    "<div style=\"font-size:14px; color:white; margin:20px\">\n",
    "</div>"
   ]
  },
  {
   "cell_type": "markdown",
   "metadata": {},
   "source": [
    "<div style=\"font-size:20px; color:pink; margin:20px\">\n",
    "matplotlib.pyplot.bar の概要\n",
    "</div>\n",
    "<div style=\"font-size:14px; color:white; margin:20px\">\n",
    "matplotlib には、棒グラフを描画するメソッドとして、matplotlib.pyplot.bar が用意されてます。<br>\n",
    "<br>\n",
    "<p><b>matplotlib.pyplot.bar の使い方</b></p>\n",
    "<p></p><!-- Crayon Syntax Highlighter v_2.7.2_beta -->\n",
    "\n",
    "\t\t<div id=\"crayon-5a4b728659e0f422018953\" class=\"crayon-syntax crayon-theme-github crayon-font-monaco crayon-os-mac print-yes notranslate\" data-settings=\" no-popup minimize scroll-mouseover\" style=\" margin-top: 12px; margin-bottom: 12px; font-size: 13px !important; line-height: 16px !important;\">\n",
    "\t\t\n",
    "\t\t\t<div class=\"crayon-toolbar\" data-settings=\" show\" style=\"font-size: 13px !important;height: 19.5px !important; line-height: 19.5px !important;\"><span class=\"crayon-title\"></span>\n",
    "\t\t\t<div class=\"crayon-tools\" style=\"font-size: 13px !important;height: 19.5px !important; line-height: 19.5px !important;\"><div class=\"crayon-button crayon-wrap-button\" title=\"Toggle Line Wrap\"><div class=\"crayon-button-icon\"></div></div><span class=\"crayon-language\">Python</span></div></div>\n",
    "\t\t\t<div class=\"crayon-info\" style=\"min-height: 18.2px !important; line-height: 18.2px !important;\"></div>\n",
    "\t\t\t<div class=\"crayon-plain-wrap\"></div>\n",
    "\t\t\t<div class=\"crayon-main\" style=\"\">\n",
    "\t\t\t\t<table class=\"crayon-table\">\n",
    "\t\t\t\t\t<tr class=\"crayon-row\">\n",
    "\t\t\t\t<td class=\"crayon-nums \" data-settings=\"show\">\n",
    "\t\t\t\t\t<div class=\"crayon-nums-content\" style=\"font-size: 13px !important; line-height: 16px !important;\"><div class=\"crayon-num\" data-line=\"crayon-5a4b728659e0f422018953-1\">1</div><div class=\"crayon-num\" data-line=\"crayon-5a4b728659e0f422018953-2\">2</div></div>\n",
    "\t\t\t\t</td>\n",
    "\t\t\t\t\t\t<td class=\"crayon-code\"><div class=\"crayon-pre\" style=\"font-size: 13px !important; line-height: 16px !important; -moz-tab-size:4; -o-tab-size:4; -webkit-tab-size:4; tab-size:4;\"><div class=\"crayon-line\" id=\"crayon-5a4b728659e0f422018953-1\"><span class=\"crayon-v\">matplotlib</span><span class=\"crayon-sy\">.</span><span class=\"crayon-v\">pyplot</span><span class=\"crayon-sy\">.</span><span class=\"crayon-e\">bar</span><span class=\"crayon-sy\">(</span><span class=\"crayon-v\">left</span><span class=\"crayon-sy\">,</span><span class=\"crayon-h\"> </span><span class=\"crayon-v\">height</span><span class=\"crayon-sy\">,</span><span class=\"crayon-h\"> </span><span class=\"crayon-v\">width</span><span class=\"crayon-o\">=</span><span class=\"crayon-cn\">0.8</span><span class=\"crayon-sy\">,</span><span class=\"crayon-h\"> </span><span class=\"crayon-v\">bottom</span><span class=\"crayon-o\">=</span><span class=\"crayon-t\">None</span><span class=\"crayon-sy\">,</span><span class=\"crayon-h\"> </span><span class=\"crayon-v\">hold</span><span class=\"crayon-o\">=</span><span class=\"crayon-t\">None</span><span class=\"crayon-sy\">,</span></div><div class=\"crayon-line\" id=\"crayon-5a4b728659e0f422018953-2\"><span class=\"crayon-h\">&nbsp;&nbsp;&nbsp;&nbsp;&nbsp;&nbsp;&nbsp;&nbsp;&nbsp;&nbsp;&nbsp;&nbsp;&nbsp;&nbsp;&nbsp;&nbsp;&nbsp;&nbsp;&nbsp;&nbsp;&nbsp;&nbsp;</span><span class=\"crayon-v\">data</span><span class=\"crayon-o\">=</span><span class=\"crayon-t\">None</span><span class=\"crayon-sy\">,</span><span class=\"crayon-h\"> </span><span class=\"crayon-o\">*</span><span class=\"crayon-o\">*</span><span class=\"crayon-v\">kwargs</span><span class=\"crayon-sy\">)</span></div></div></td>\n",
    "\t\t\t\t\t</tr>\n",
    "\t\t\t\t</table>\n",
    "\t\t\t</div>\n",
    "\t\t</div>\n",
    "<!-- [Format Time: 0.0038 seconds] -->\n",
    "<p></p>\n",
    "<p><b>matplotlib.pyplot.bar の主要な引数</b></p>\n",
    "<table>\n",
    "<tr>\n",
    "<th>left (必須) </th>\n",
    "<td>各棒の X 軸上の数値</td>\n",
    "</tr>\n",
    "<tr>\n",
    "<th>height (必須)</th>\n",
    "<td>各棒の高さ</td>\n",
    "</tr>\n",
    "<tr>\n",
    "<th>width</th>\n",
    "<td>棒の太さ (デフォルト値: 0.8)</td>\n",
    "</tr>\n",
    "<tr>\n",
    "<th>bottom</th>\n",
    "<td>各棒の下側の余白。(主に積み上げ棒グラフを出力するために使います)</td>\n",
    "</tr>\n",
    "<tr>\n",
    "<th>color</th>\n",
    "<td>棒の色。</td>\n",
    "</tr>\n",
    "<tr>\n",
    "<th>edgecolor</th>\n",
    "<td>棒の枠線の色</td>\n",
    "</tr>\n",
    "<tr>\n",
    "<th>linewidth</th>\n",
    "<td>棒の枠線の太さ。</td>\n",
    "</tr>\n",
    "<tr>\n",
    "<th>tick_label</th>\n",
    "<td>X 軸のラベル</td>\n",
    "</tr>\n",
    "<tr>\n",
    "<th>xerr</th>\n",
    "<td>X 軸方向のエラーバー (誤差範囲) を出力する場合、数値または配列を指定。</td>\n",
    "</tr>\n",
    "<tr>\n",
    "<th>yerr</th>\n",
    "<td>Y 軸方向のエラーバー (誤差範囲) を出力する場合、数値または配列を指定。</td>\n",
    "</tr>\n",
    "<tr>\n",
    "<th>ecolor</th>\n",
    "<td>エラーバーの色を値または配列で指定。</td>\n",
    "</tr>\n",
    "<tr>\n",
    "<th>capsize</th>\n",
    "<td>エラーバーの傘のサイズを指定。</td>\n",
    "</tr>\n",
    "<tr>\n",
    "<th>align</th>\n",
    "<td>棒の位置。&#8217;edge&#8217; (垂直方向の場合:左端, 水平方向の場合:下端) または &#8216;center&#8217; (中央)を指定。 (デフォルト値: &#8216;edge&#8217; )</td>\n",
    "</tr>\n",
    "<tr>\n",
    "<th>log</th>\n",
    "<td>True に設定すると、対数目盛で出力します。 (デフォルト値: False)</td>\n",
    "</tr>\n",
    "</table>\n",
    "</div>"
   ]
  },
  {
   "cell_type": "markdown",
   "metadata": {},
   "source": [
    "<div style=\"font-size:20px; color:pink; margin:20px\">\n",
    "基本的な棒グラフの出力例\n",
    "</div>\n",
    "<div style=\"font-size:14px; color:white; margin:20px\">\n",
    "5 本の棒を出力\n",
    "</div>"
   ]
  },
  {
   "cell_type": "code",
   "execution_count": 18,
   "metadata": {},
   "outputs": [
    {
     "data": {
      "image/png": "[encoded data removed]",
      "text/plain": [
       "<matplotlib.figure.Figure at 0x10bf9ffd0>"
      ]
     },
     "metadata": {},
     "output_type": "display_data"
    }
   ],
   "source": [
    "import numpy as np\n",
    "import matplotlib.pyplot as plt\n",
    " \n",
    "left = np.array([1, 2, 3, 4, 5])\n",
    "height = np.array([100, 200, 300, 400, 500])\n",
    "plt.bar(left, height)\n",
    "plt.show()"
   ]
  },
  {
   "cell_type": "markdown",
   "metadata": {},
   "source": [
    "<div style=\"font-size:20px; color:pink; margin:20px\">\n",
    "</div>\n",
    "<div style=\"font-size:14px; color:white; margin:20px\">\n",
    "幅=1.0に設定 (=棒と棒の隙間を表示しない)\n",
    "</div>"
   ]
  },
  {
   "cell_type": "code",
   "execution_count": 20,
   "metadata": {},
   "outputs": [
    {
     "data": {
      "image/png": "[encoded data removed]",
      "text/plain": [
       "<matplotlib.figure.Figure at 0x10be16048>"
      ]
     },
     "metadata": {},
     "output_type": "display_data"
    }
   ],
   "source": [
    "plt.bar(left, height, width=1.0)\n",
    "plt.show()"
   ]
  },
  {
   "cell_type": "markdown",
   "metadata": {},
   "source": [
    "<div style=\"font-size:20px; color:pink; margin:20px\">\n",
    "</div>\n",
    "<div style=\"font-size:14px; color:white; margin:20px\">\n",
    "棒の色を緑色 (#1E7F00) に設定し、枠線を非表示\n",
    "</div>"
   ]
  },
  {
   "cell_type": "code",
   "execution_count": 21,
   "metadata": {},
   "outputs": [
    {
     "data": {
      "image/png": "[encoded data removed]",
      "text/plain": [
       "<matplotlib.figure.Figure at 0x10ba1b828>"
      ]
     },
     "metadata": {},
     "output_type": "display_data"
    }
   ],
   "source": [
    "plt.bar(left, height, color=\"#1E7F00\", linewidth=0)\n",
    "plt.show()"
   ]
  },
  {
   "cell_type": "markdown",
   "metadata": {},
   "source": [
    "<div style=\"font-size:20px; color:pink; margin:20px\">\n",
    "</div>\n",
    "<div style=\"font-size:14px; color:white; margin:20px\">\n",
    "棒の色、枠線の色、太さを設定\n",
    "</div>"
   ]
  },
  {
   "cell_type": "code",
   "execution_count": 22,
   "metadata": {},
   "outputs": [
    {
     "data": {
      "image/png": "[encoded data removed]",
      "text/plain": [
       "<matplotlib.figure.Figure at 0x10bcca438>"
      ]
     },
     "metadata": {},
     "output_type": "display_data"
    }
   ],
   "source": [
    "plt.bar(left, height, color=\"#FF5B70\", edgecolor=\"#CC4959\", linewidth=4)\n",
    "plt.show()"
   ]
  },
  {
   "cell_type": "markdown",
   "metadata": {},
   "source": [
    "<div style=\"font-size:20px; color:pink; margin:20px\">\n",
    "</div>\n",
    "<div style=\"font-size:14px; color:white; margin:20px\">\n",
    "棒の位置を中央に設定\n",
    "</div>"
   ]
  },
  {
   "cell_type": "code",
   "execution_count": 23,
   "metadata": {},
   "outputs": [
    {
     "data": {
      "image/png": "[encoded data removed]",
      "text/plain": [
       "<matplotlib.figure.Figure at 0x10bd54c88>"
      ]
     },
     "metadata": {},
     "output_type": "display_data"
    }
   ],
   "source": [
    "plt.bar(left, height, align=\"center\")\n",
    "plt.show()"
   ]
  },
  {
   "cell_type": "markdown",
   "metadata": {},
   "source": [
    "<div style=\"font-size:20px; color:pink; margin:20px\">\n",
    "</div>\n",
    "<div style=\"font-size:14px; color:white; margin:20px\">\n",
    "横軸に文字列のラベルを指定\n",
    "</div>"
   ]
  },
  {
   "cell_type": "code",
   "execution_count": 24,
   "metadata": {},
   "outputs": [
    {
     "data": {
      "image/png": "[encoded data removed]",
      "text/plain": [
       "<matplotlib.figure.Figure at 0x10bd54208>"
      ]
     },
     "metadata": {},
     "output_type": "display_data"
    }
   ],
   "source": [
    "label = [\"Apple\", \"Banana\", \"Orange\", \"Grape\", \"Strawberry\"]\n",
    "plt.bar(left, height, tick_label=label, align=\"center\")\n",
    "plt.show()"
   ]
  },
  {
   "cell_type": "markdown",
   "metadata": {},
   "source": [
    "<div style=\"font-size:20px; color:pink; margin:20px\">\n",
    "</div>\n",
    "<div style=\"font-size:14px; color:white; margin:20px\">\n",
    "タイトル、X 軸、Y 軸のラベルを出力\n",
    "</div>"
   ]
  },
  {
   "cell_type": "code",
   "execution_count": 25,
   "metadata": {},
   "outputs": [
    {
     "data": {
      "image/png": "[encoded data removed]",
      "text/plain": [
       "<matplotlib.figure.Figure at 0x10be7e080>"
      ]
     },
     "metadata": {},
     "output_type": "display_data"
    }
   ],
   "source": [
    "plt.bar(left, height, tick_label=label, align=\"center\")\n",
    "plt.title(\"This is a title\")\n",
    "plt.xlabel(\"x axis\")\n",
    "plt.ylabel(\"y axis\")\n",
    "plt.grid(True)\n",
    "plt.show()"
   ]
  },
  {
   "cell_type": "markdown",
   "metadata": {},
   "source": [
    "<div style=\"font-size:20px; color:pink; margin:20px\">\n",
    "エラーバー (誤差範囲) を表示する\n",
    "</div>\n",
    "<div style=\"font-size:14px; color:white; margin:20px\">\n",
    "X 軸方向のエラーバーを一律 0.5 で赤色 (red) で表示\n",
    "</div>"
   ]
  },
  {
   "cell_type": "code",
   "execution_count": 26,
   "metadata": {},
   "outputs": [
    {
     "data": {
      "image/png": "[encoded data removed]",
      "text/plain": [
       "<matplotlib.figure.Figure at 0x10b491438>"
      ]
     },
     "metadata": {},
     "output_type": "display_data"
    }
   ],
   "source": [
    "plt.bar(left, height, xerr=0.5, ecolor=\"red\")\n",
    "plt.show()"
   ]
  },
  {
   "cell_type": "markdown",
   "metadata": {},
   "source": [
    "<div style=\"font-size:20px; color:pink; margin:20px\">\n",
    "</div>\n",
    "<div style=\"font-size:14px; color:white; margin:20px\">\n",
    "Y 軸方向のエラーバーを黒色 (black) で表示\n",
    "</div>"
   ]
  },
  {
   "cell_type": "code",
   "execution_count": 27,
   "metadata": {},
   "outputs": [
    {
     "data": {
      "image/png": "[encoded data removed]",
      "text/plain": [
       "<matplotlib.figure.Figure at 0x10bc2fac8>"
      ]
     },
     "metadata": {},
     "output_type": "display_data"
    }
   ],
   "source": [
    "yerr = np.array([10, 20, 30, 40, 50])\n",
    "plt.bar(left, height, yerr=yerr, ecolor=\"black\")\n",
    "plt.show()"
   ]
  },
  {
   "cell_type": "markdown",
   "metadata": {},
   "source": [
    "<div style=\"font-size:20px; color:pink; margin:20px\">\n",
    "</div>\n",
    "<div style=\"font-size:14px; color:white; margin:20px\">\n",
    "Y 軸方向のエラーバーを傘のサイズ 10 で表示\n",
    "</div>"
   ]
  },
  {
   "cell_type": "code",
   "execution_count": 28,
   "metadata": {},
   "outputs": [
    {
     "data": {
      "image/png": "[encoded data removed]",
      "text/plain": [
       "<matplotlib.figure.Figure at 0x10b8a2748>"
      ]
     },
     "metadata": {},
     "output_type": "display_data"
    }
   ],
   "source": [
    "plt.bar(left, height, yerr=25, ecolor=\"black\", capsize=10)\n",
    "plt.show()"
   ]
  },
  {
   "cell_type": "markdown",
   "metadata": {},
   "source": [
    "<div style=\"font-size:20px; color:pink; margin:20px\">\n",
    "</div>\n",
    "<div style=\"font-size:14px; color:white; margin:20px\">\n",
    "Y 軸を対数目盛で表示\n",
    "</div>"
   ]
  },
  {
   "cell_type": "code",
   "execution_count": 29,
   "metadata": {},
   "outputs": [
    {
     "data": {
      "image/png": "[encoded data removed]",
      "text/plain": [
       "<matplotlib.figure.Figure at 0x10b9382b0>"
      ]
     },
     "metadata": {},
     "output_type": "display_data"
    }
   ],
   "source": [
    "plt.bar(left, [200, 2000, 20000, 200000, 2000000], log=True)\n",
    "plt.show()"
   ]
  },
  {
   "cell_type": "markdown",
   "metadata": {},
   "source": [
    "<div style=\"font-size:20px; color:pink; margin:20px\">\n",
    "積み上げ棒グラフ\n",
    "</div>\n",
    "<div style=\"font-size:14px; color:white; margin:20px\">\n",
    "積み上げ棒グラフ<br>\n",
    "bottom パラメータを使用し、下側の余白付きでプロットすることで積み上げ棒グラフを作成しています。<br>\n",
    "</div>"
   ]
  },
  {
   "cell_type": "code",
   "execution_count": 31,
   "metadata": {},
   "outputs": [
    {
     "data": {
      "image/png": "[encoded data removed]",
      "text/plain": [
       "<matplotlib.figure.Figure at 0x10fe3c3c8>"
      ]
     },
     "metadata": {},
     "output_type": "display_data"
    }
   ],
   "source": [
    "height1 = np.array([100, 200, 300, 400, 500])\n",
    "height2 = np.array([1000, 800, 600, 400, 200])\n",
    "plt.bar(left, height1, color=\"green\")\n",
    "plt.bar(left, height2, bottom=height1, color=\"orange\")\n",
    "plt.show()"
   ]
  },
  {
   "cell_type": "markdown",
   "metadata": {},
   "source": [
    "<div style=\"font-size:20px; color:pink; margin:20px\">\n",
    "</div>\n",
    "<div style=\"font-size:14px; color:white; margin:20px\">\n",
    "積み上げ棒グラフ (凡例を表示)\n",
    "</div>"
   ]
  },
  {
   "cell_type": "code",
   "execution_count": 32,
   "metadata": {},
   "outputs": [
    {
     "data": {
      "image/png": "[encoded data removed]",
      "text/plain": [
       "<matplotlib.figure.Figure at 0x10fef3208>"
      ]
     },
     "metadata": {},
     "output_type": "display_data"
    }
   ],
   "source": [
    "height1 = np.array([100, 200, 300, 400, 500])\n",
    "height2 = np.array([1000, 800, 600, 400, 200])\n",
    "p1 = plt.bar(left, height1, color=\"green\")\n",
    "p2 = plt.bar(left, height2, bottom=height1, color=\"orange\")\n",
    "plt.legend((p1[0], p2[0]), (\"Class 1\", \"Class 2\"))\n",
    "plt.show()"
   ]
  },
  {
   "cell_type": "code",
   "execution_count": null,
   "metadata": {
    "collapsed": true
   },
   "outputs": [],
   "source": []
  }
 ],
 "metadata": {
  "kernelspec": {
   "display_name": "Python 3",
   "language": "python",
   "name": "python3"
  },
  "language_info": {
   "codemirror_mode": {
    "name": "ipython",
    "version": 3
   },
   "file_extension": ".py",
   "mimetype": "text/x-python",
   "name": "python",
   "nbconvert_exporter": "python",
   "pygments_lexer": "ipython3",
   "version": "3.6.3"
  }
 },
 "nbformat": 4,
 "nbformat_minor": 2
}
