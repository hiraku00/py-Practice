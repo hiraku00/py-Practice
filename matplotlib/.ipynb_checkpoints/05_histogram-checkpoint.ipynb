{
 "cells": [
  {
   "cell_type": "markdown",
   "metadata": {},
   "source": [
    "<div style=\"font-size:20px; color:pink; margin:20px\">\n",
    "matplotlib でヒストグラムを描く\n",
    "</div>\n",
    "<div style=\"font-size:14px; color:white; margin:20px\">\n",
    "</div>"
   ]
  },
  {
   "cell_type": "markdown",
   "metadata": {},
   "source": [
    "<div style=\"font-size:20px; color:pink; margin:20px\">\n",
    "matplotlib.pyplot.hist の概要\n",
    "</div>\n",
    "<div style=\"font-size:14px; color:white; margin:20px\">\n",
    "matplotlib には、ヒストグラムを描画するメソッドとして、matplotlib.pyplot.hist が用意されてます。<br>\n",
    "<br>\n",
    "<div id=\"crayon-5a5207a9dee0f088105009\" class=\"crayon-syntax crayon-theme-github crayon-font-monaco crayon-os-mac print-yes notranslate\" data-settings=\" no-popup minimize scroll-mouseover\" style=\" margin-top: 12px; margin-bottom: 12px; font-size: 13px !important; line-height: 16px !important;\">\n",
    "\t\t\n",
    "\t\t\t<div class=\"crayon-toolbar\" data-settings=\" show\" style=\"font-size: 13px !important;height: 19.5px !important; line-height: 19.5px !important;\"><span class=\"crayon-title\"></span>\n",
    "\t\t\t<div class=\"crayon-tools\" style=\"font-size: 13px !important;height: 19.5px !important; line-height: 19.5px !important;\"><div class=\"crayon-button crayon-wrap-button\" title=\"Toggle Line Wrap\"><div class=\"crayon-button-icon\"></div></div><span class=\"crayon-language\">Python</span></div></div>\n",
    "\t\t\t<div class=\"crayon-info\" style=\"min-height: 18.2px !important; line-height: 18.2px !important;\"></div>\n",
    "\t\t\t<div class=\"crayon-plain-wrap\"></div>\n",
    "\t\t\t<div class=\"crayon-main\" style=\"\">\n",
    "\t\t\t\t<table class=\"crayon-table\">\n",
    "\t\t\t\t\t<tr class=\"crayon-row\">\n",
    "\t\t\t\t<td class=\"crayon-nums \" data-settings=\"show\">\n",
    "\t\t\t\t\t<div class=\"crayon-nums-content\" style=\"font-size: 13px !important; line-height: 16px !important;\"><div class=\"crayon-num\" data-line=\"crayon-5a5207a9dee0f088105009-1\">1</div><div class=\"crayon-num\" data-line=\"crayon-5a5207a9dee0f088105009-2\">2</div><div class=\"crayon-num\" data-line=\"crayon-5a5207a9dee0f088105009-3\">3</div><div class=\"crayon-num\" data-line=\"crayon-5a5207a9dee0f088105009-4\">4</div><div class=\"crayon-num\" data-line=\"crayon-5a5207a9dee0f088105009-5\">5</div></div>\n",
    "\t\t\t\t</td>\n",
    "\t\t\t\t\t\t<td class=\"crayon-code\"><div class=\"crayon-pre\" style=\"font-size: 13px !important; line-height: 16px !important; -moz-tab-size:4; -o-tab-size:4; -webkit-tab-size:4; tab-size:4;\"><div class=\"crayon-line\" id=\"crayon-5a5207a9dee0f088105009-1\"><span class=\"crayon-v\">matplotlib</span><span class=\"crayon-sy\">.</span><span class=\"crayon-v\">pyplot</span><span class=\"crayon-sy\">.</span><span class=\"crayon-e\">hist</span><span class=\"crayon-sy\">(</span><span class=\"crayon-v\">x</span><span class=\"crayon-sy\">,</span><span class=\"crayon-h\"> </span><span class=\"crayon-v\">bins</span><span class=\"crayon-o\">=</span><span class=\"crayon-cn\">10</span><span class=\"crayon-sy\">,</span><span class=\"crayon-h\"> </span><span class=\"crayon-k \">range</span><span class=\"crayon-o\">=</span><span class=\"crayon-t\">None</span><span class=\"crayon-sy\">,</span><span class=\"crayon-h\"> </span><span class=\"crayon-v\">normed</span><span class=\"crayon-o\">=</span><span class=\"crayon-t\">False</span><span class=\"crayon-sy\">,</span><span class=\"crayon-h\"> </span><span class=\"crayon-v\">weights</span><span class=\"crayon-o\">=</span><span class=\"crayon-t\">None</span><span class=\"crayon-sy\">,</span></div><div class=\"crayon-line\" id=\"crayon-5a5207a9dee0f088105009-2\"><span class=\"crayon-h\">&nbsp;&nbsp;&nbsp;&nbsp;&nbsp;&nbsp;&nbsp;&nbsp;&nbsp;&nbsp;&nbsp;&nbsp;&nbsp;&nbsp;&nbsp;&nbsp;&nbsp;&nbsp;&nbsp;&nbsp;&nbsp;&nbsp; </span><span class=\"crayon-v\">cumulative</span><span class=\"crayon-o\">=</span><span class=\"crayon-t\">False</span><span class=\"crayon-sy\">,</span><span class=\"crayon-h\"> </span><span class=\"crayon-v\">bottom</span><span class=\"crayon-o\">=</span><span class=\"crayon-t\">None</span><span class=\"crayon-sy\">,</span><span class=\"crayon-h\"> </span><span class=\"crayon-v\">histtype</span><span class=\"crayon-o\">=</span><span class=\"crayon-s\">'bar'</span><span class=\"crayon-sy\">,</span></div><div class=\"crayon-line\" id=\"crayon-5a5207a9dee0f088105009-3\"><span class=\"crayon-h\">&nbsp;&nbsp;&nbsp;&nbsp;&nbsp;&nbsp;&nbsp;&nbsp;&nbsp;&nbsp;&nbsp;&nbsp;&nbsp;&nbsp;&nbsp;&nbsp;&nbsp;&nbsp;&nbsp;&nbsp;&nbsp;&nbsp; </span><span class=\"crayon-v\">align</span><span class=\"crayon-o\">=</span><span class=\"crayon-s\">'mid'</span><span class=\"crayon-sy\">,</span><span class=\"crayon-h\"> </span><span class=\"crayon-v\">orientation</span><span class=\"crayon-o\">=</span><span class=\"crayon-s\">'vertical'</span><span class=\"crayon-sy\">,</span><span class=\"crayon-h\"> </span><span class=\"crayon-v\">rwidth</span><span class=\"crayon-o\">=</span><span class=\"crayon-t\">None</span><span class=\"crayon-sy\">,</span></div><div class=\"crayon-line\" id=\"crayon-5a5207a9dee0f088105009-4\"><span class=\"crayon-h\">&nbsp;&nbsp;&nbsp;&nbsp;&nbsp;&nbsp;&nbsp;&nbsp;&nbsp;&nbsp;&nbsp;&nbsp;&nbsp;&nbsp;&nbsp;&nbsp;&nbsp;&nbsp;&nbsp;&nbsp;&nbsp;&nbsp; </span><span class=\"crayon-v\">log</span><span class=\"crayon-o\">=</span><span class=\"crayon-t\">False</span><span class=\"crayon-sy\">,</span><span class=\"crayon-h\"> </span><span class=\"crayon-v\">color</span><span class=\"crayon-o\">=</span><span class=\"crayon-t\">None</span><span class=\"crayon-sy\">,</span><span class=\"crayon-h\"> </span><span class=\"crayon-v\">label</span><span class=\"crayon-o\">=</span><span class=\"crayon-t\">None</span><span class=\"crayon-sy\">,</span><span class=\"crayon-h\"> </span><span class=\"crayon-v\">stacked</span><span class=\"crayon-o\">=</span><span class=\"crayon-t\">False</span><span class=\"crayon-sy\">,</span></div><div class=\"crayon-line\" id=\"crayon-5a5207a9dee0f088105009-5\"><span class=\"crayon-h\">&nbsp;&nbsp;&nbsp;&nbsp;&nbsp;&nbsp;&nbsp;&nbsp;&nbsp;&nbsp;&nbsp;&nbsp;&nbsp;&nbsp;&nbsp;&nbsp;&nbsp;&nbsp;&nbsp;&nbsp;&nbsp;&nbsp; </span><span class=\"crayon-v\">hold</span><span class=\"crayon-o\">=</span><span class=\"crayon-t\">None</span><span class=\"crayon-sy\">,</span><span class=\"crayon-h\"> </span><span class=\"crayon-v\">data</span><span class=\"crayon-o\">=</span><span class=\"crayon-t\">None</span><span class=\"crayon-sy\">,</span><span class=\"crayon-h\"> </span><span class=\"crayon-o\">*</span><span class=\"crayon-o\">*</span><span class=\"crayon-v\">kwargs</span><span class=\"crayon-sy\">)</span></div></div></td>\n",
    "\t\t\t\t\t</tr>\n",
    "\t\t\t\t</table>\n",
    "\t\t\t</div>\n",
    "\t\t</div>\n",
    "<!-- [Format Time: 0.0052 seconds] -->\n",
    "<p></p>\n",
    "<p><b>matplotlib.pyplot.hist の主要な引数</b></p>\n",
    "<table>\n",
    "<tr>\n",
    "<th>x (必須)</th>\n",
    "<td>ヒストグラムを作成するための生データの配列。</td>\n",
    "</tr>\n",
    "<tr>\n",
    "<th>bins</th>\n",
    "<td>ビン (表示する棒) の数。階級数。(デフォルト値: 10)</td>\n",
    "</tr>\n",
    "<tr>\n",
    "<th>range</th>\n",
    "<td>ビンの最小値と最大値を指定。(デフォルト値:  (x.min(), x.max())) </td>\n",
    "</tr>\n",
    "<tr>\n",
    "<th>normed</th>\n",
    "<td>True に設定すると正規化 (合計値が 1 になるように変換) を実施。 (デフォルト値: False)</td>\n",
    "</tr>\n",
    "<tr>\n",
    "<th>cumulative</th>\n",
    "<td>True に設定すると、累積ヒストグラムを出力。 (デフォルト値: False)</td>\n",
    "</tr>\n",
    "<tr>\n",
    "<th>bottom</th>\n",
    "<td>各棒の下側の余白を数値または配列で指定。</td>\n",
    "</tr>\n",
    "<tr>\n",
    "<th>histtype</th>\n",
    "<td>&#8216;bar&#8217; (通常のヒストグラム), &#8216;barstacked&#8217; (積み上げヒストグラム), &#8216;step&#8217; (線), &#8216;stepfilled &#8216; (塗りつぶしありの線) から選択。 (デフォルト値: &#8216;bar&#8217;)</td>\n",
    "</tr>\n",
    "<tr>\n",
    "<th>align</th>\n",
    "<td>各棒の中心を X 軸目盛上のどの横位置で出力するか。 ‘left’, ‘mid’, ‘right&#8217; から選択。(デフォルト値: &#8216;mid&#8217;)</td>\n",
    "</tr>\n",
    "<tr>\n",
    "<th>orientation</th>\n",
    "<td>棒の方向。&#8217;horizontal&#8217; (水平方向), &#8216;vertical&#8217; (垂直方向) から選択。(デフォルト値: &#8216;vertical&#8217;)</td>\n",
    "</tr>\n",
    "<tr>\n",
    "<th>rwidth</th>\n",
    "<td>各棒の幅を数値または、配列で指定。</td>\n",
    "</tr>\n",
    "<tr>\n",
    "<th>log</th>\n",
    "<td>True に設定すると、縦軸を対数目盛で表示します。</td>\n",
    "</tr>\n",
    "<tr>\n",
    "<th>color</th>\n",
    "<td>ヒストグラムの色。配列で指定し、データセット単位で色を指定することができます。</td>\n",
    "</tr>\n",
    "<tr>\n",
    "<th>label</th>\n",
    "<td>凡例を載せる際に使用します。</td>\n",
    "</tr>\n",
    "<tr>\n",
    "<th>stacked</th>\n",
    "<td>True に設定すると積み上げヒストグラムで出力します。False に設定すると、横に並べて出力します。</td>\n",
    "</tr>\n",
    "</table>\n",
    "</div>"
   ]
  },
  {
   "cell_type": "markdown",
   "metadata": {},
   "source": [
    "<div style=\"font-size:20px; color:pink; margin:20px\">\n",
    "グラフの出力例\n",
    "</div>\n",
    "<div style=\"font-size:14px; color:white; margin:20px\">\n",
    "</div>"
   ]
  },
  {
   "cell_type": "code",
   "execution_count": 3,
   "metadata": {},
   "outputs": [
    {
     "data": {
      "image/png": "[encoded data removed]",
      "text/plain": [
       "<matplotlib.figure.Figure at 0x104a5fcf8>"
      ]
     },
     "metadata": {},
     "output_type": "display_data"
    }
   ],
   "source": [
    "import numpy as np\n",
    "import matplotlib.pyplot as plt\n",
    "\n",
    "# 平均50, 標準偏差10の正規乱数を1,000件生成\n",
    "x = np.random.normal(50, 10, 1000)\n",
    "\n",
    "# ヒストグラムを生成\n",
    "plt.hist(x)\n",
    "plt.show()"
   ]
  },
  {
   "cell_type": "markdown",
   "metadata": {},
   "source": [
    "<div style=\"font-size:20px; color:pink; margin:20px\">\n",
    "</div>\n",
    "<div style=\"font-size:14px; color:white; margin:20px\">\n",
    "棒の数を 16 に指定\n",
    "</div>"
   ]
  },
  {
   "cell_type": "code",
   "execution_count": 4,
   "metadata": {},
   "outputs": [
    {
     "data": {
      "image/png": "[encoded data removed]",
      "text/plain": [
       "<matplotlib.figure.Figure at 0x1049e7f60>"
      ]
     },
     "metadata": {},
     "output_type": "display_data"
    }
   ],
   "source": [
    "plt.hist(x, bins=16)\n",
    "plt.show()"
   ]
  },
  {
   "cell_type": "markdown",
   "metadata": {},
   "source": [
    "<div style=\"font-size:20px; color:pink; margin:20px\">\n",
    "</div>\n",
    "<div style=\"font-size:14px; color:white; margin:20px\">\n",
    "下限、上限を設定\n",
    "</div>"
   ]
  },
  {
   "cell_type": "code",
   "execution_count": 5,
   "metadata": {},
   "outputs": [
    {
     "data": {
      "image/png": "[encoded data removed]",
      "text/plain": [
       "<matplotlib.figure.Figure at 0x10ee38630>"
      ]
     },
     "metadata": {},
     "output_type": "display_data"
    }
   ],
   "source": [
    "plt.hist(x, range=(50, 100))\n",
    "plt.show()"
   ]
  },
  {
   "cell_type": "markdown",
   "metadata": {},
   "source": [
    "<div style=\"font-size:20px; color:pink; margin:20px\">\n",
    "</div>\n",
    "<div style=\"font-size:14px; color:white; margin:20px\">\n",
    "正規化 (合計すると 1 になるよう調整)\n",
    "</div>"
   ]
  },
  {
   "cell_type": "code",
   "execution_count": 6,
   "metadata": {},
   "outputs": [
    {
     "data": {
      "image/png": "[encoded data removed]",
      "text/plain": [
       "<matplotlib.figure.Figure at 0x10efde4e0>"
      ]
     },
     "metadata": {},
     "output_type": "display_data"
    }
   ],
   "source": [
    "plt.hist(x, normed=True)\n",
    "plt.show()"
   ]
  },
  {
   "cell_type": "markdown",
   "metadata": {},
   "source": [
    "<div style=\"font-size:20px; color:pink; margin:20px\">\n",
    "</div>\n",
    "<div style=\"font-size:14px; color:white; margin:20px\">\n",
    "累積値を出力\n",
    "</div>"
   ]
  },
  {
   "cell_type": "code",
   "execution_count": 7,
   "metadata": {},
   "outputs": [
    {
     "data": {
      "image/png": "[encoded data removed]",
      "text/plain": [
       "<matplotlib.figure.Figure at 0x10f0ad048>"
      ]
     },
     "metadata": {},
     "output_type": "display_data"
    }
   ],
   "source": [
    "plt.hist(x, cumulative=True)\n",
    "plt.show()"
   ]
  },
  {
   "cell_type": "markdown",
   "metadata": {},
   "source": [
    "<div style=\"font-size:20px; color:pink; margin:20px\">\n",
    "</div>\n",
    "<div style=\"font-size:14px; color:white; margin:20px\">\n",
    "ヒストグラム下側の余白を 30 に設定\n",
    "</div>"
   ]
  },
  {
   "cell_type": "code",
   "execution_count": 8,
   "metadata": {},
   "outputs": [
    {
     "data": {
      "image/png": "[encoded data removed]",
      "text/plain": [
       "<matplotlib.figure.Figure at 0x10f0d32e8>"
      ]
     },
     "metadata": {},
     "output_type": "display_data"
    }
   ],
   "source": [
    "plt.hist(x, bottom=30) # jupyterでは無効?\n",
    "plt.show()"
   ]
  },
  {
   "cell_type": "markdown",
   "metadata": {},
   "source": [
    "<div style=\"font-size:20px; color:pink; margin:20px\">\n",
    "</div>\n",
    "<div style=\"font-size:14px; color:white; margin:20px\">\n",
    "縦軸を対数目盛で表示\n",
    "</div>"
   ]
  },
  {
   "cell_type": "code",
   "execution_count": 9,
   "metadata": {},
   "outputs": [
    {
     "data": {
      "image/png": "[encoded data removed]",
      "text/plain": [
       "<matplotlib.figure.Figure at 0x10f1a3278>"
      ]
     },
     "metadata": {},
     "output_type": "display_data"
    }
   ],
   "source": [
    "plt.hist(x, log=True)\n",
    "plt.show()"
   ]
  },
  {
   "cell_type": "markdown",
   "metadata": {},
   "source": [
    "<div style=\"font-size:20px; color:pink; margin:20px\">\n",
    "</div>\n",
    "<div style=\"font-size:14px; color:white; margin:20px\">\n",
    "棒の幅を 0.8 に設定\n",
    "</div>"
   ]
  },
  {
   "cell_type": "code",
   "execution_count": 10,
   "metadata": {},
   "outputs": [
    {
     "data": {
      "image/png": "[encoded data removed]",
      "text/plain": [
       "<matplotlib.figure.Figure at 0x10f261be0>"
      ]
     },
     "metadata": {},
     "output_type": "display_data"
    }
   ],
   "source": [
    "plt.hist(x, rwidth=0.8)\n",
    "plt.show()"
   ]
  },
  {
   "cell_type": "markdown",
   "metadata": {},
   "source": [
    "<div style=\"font-size:20px; color:pink; margin:20px\">\n",
    "</div>\n",
    "<div style=\"font-size:14px; color:white; margin:20px\">\n",
    "棒の色を設定\n",
    "</div>"
   ]
  },
  {
   "cell_type": "code",
   "execution_count": 11,
   "metadata": {},
   "outputs": [
    {
     "data": {
      "image/png": "[encoded data removed]",
      "text/plain": [
       "<matplotlib.figure.Figure at 0x10f235ef0>"
      ]
     },
     "metadata": {},
     "output_type": "display_data"
    }
   ],
   "source": [
    "plt.hist(x, color='red')\n",
    "plt.show()"
   ]
  },
  {
   "cell_type": "markdown",
   "metadata": {},
   "source": [
    "<div style=\"font-size:20px; color:pink; margin:20px\">\n",
    "</div>\n",
    "<div style=\"font-size:14px; color:white; margin:20px\">\n",
    "塗りつぶしなしの線で出力\n",
    "</div>"
   ]
  },
  {
   "cell_type": "code",
   "execution_count": 12,
   "metadata": {},
   "outputs": [
    {
     "data": {
      "image/png": "[encoded data removed]",
      "text/plain": [
       "<matplotlib.figure.Figure at 0x106b57c50>"
      ]
     },
     "metadata": {},
     "output_type": "display_data"
    }
   ],
   "source": [
    "plt.hist(x, histtype='step')\n",
    "plt.show()"
   ]
  },
  {
   "cell_type": "markdown",
   "metadata": {},
   "source": [
    "<div style=\"font-size:20px; color:pink; margin:20px\">\n",
    "</div>\n",
    "<div style=\"font-size:14px; color:white; margin:20px\">\n",
    "塗りつぶしありの線で出力\n",
    "</div>"
   ]
  },
  {
   "cell_type": "code",
   "execution_count": 13,
   "metadata": {},
   "outputs": [
    {
     "data": {
      "image/png": "[encoded data removed]",
      "text/plain": [
       "<matplotlib.figure.Figure at 0x10f1a87b8>"
      ]
     },
     "metadata": {},
     "output_type": "display_data"
    }
   ],
   "source": [
    "plt.hist(x, histtype=\"stepfilled\")\n",
    "plt.show()"
   ]
  },
  {
   "cell_type": "markdown",
   "metadata": {},
   "source": [
    "<div style=\"font-size:20px; color:pink; margin:20px\">\n",
    "棒の位置・方向に関する設定\n",
    "</div>\n",
    "<div style=\"font-size:14px; color:white; margin:20px\">\n",
    "各棒の位置を目盛上の左側に設定\n",
    "</div>"
   ]
  },
  {
   "cell_type": "code",
   "execution_count": 14,
   "metadata": {},
   "outputs": [
    {
     "data": {
      "image/png": "[encoded data removed]",
      "text/plain": [
       "<matplotlib.figure.Figure at 0x10f0a7f28>"
      ]
     },
     "metadata": {},
     "output_type": "display_data"
    }
   ],
   "source": [
    "plt.hist(x, align=\"left\")\n",
    "plt.show()"
   ]
  },
  {
   "cell_type": "markdown",
   "metadata": {},
   "source": [
    "<div style=\"font-size:20px; color:pink; margin:20px\">\n",
    "</div>\n",
    "<div style=\"font-size:14px; color:white; margin:20px\">\n",
    "各棒の位置を目盛上の右側に出力\n",
    "</div>"
   ]
  },
  {
   "cell_type": "code",
   "execution_count": 15,
   "metadata": {},
   "outputs": [
    {
     "data": {
      "image/png": "[encoded data removed]",
      "text/plain": [
       "<matplotlib.figure.Figure at 0x10efdf2b0>"
      ]
     },
     "metadata": {},
     "output_type": "display_data"
    }
   ],
   "source": [
    "plt.hist(x, align=\"right\")\n",
    "plt.show()"
   ]
  },
  {
   "cell_type": "markdown",
   "metadata": {},
   "source": [
    "<div style=\"font-size:20px; color:pink; margin:20px\">\n",
    "</div>\n",
    "<div style=\"font-size:14px; color:white; margin:20px\">\n",
    "棒の向きを横方向に出力\n",
    "</div>"
   ]
  },
  {
   "cell_type": "code",
   "execution_count": 16,
   "metadata": {},
   "outputs": [
    {
     "data": {
      "image/png": "[encoded data removed]",
      "text/plain": [
       "<matplotlib.figure.Figure at 0x10fc69470>"
      ]
     },
     "metadata": {},
     "output_type": "display_data"
    }
   ],
   "source": [
    "plt.hist(x, orientation=\"horizontal\")\n",
    "plt.show()"
   ]
  },
  {
   "cell_type": "markdown",
   "metadata": {},
   "source": [
    "<div style=\"font-size:20px; color:pink; margin:20px\">\n",
    "積み上げヒストグラム\n",
    "</div>\n",
    "<div style=\"font-size:14px; color:white; margin:20px\">\n",
    "積み上げヒストグラム (histtype オプションで指定)\n",
    "</div>"
   ]
  },
  {
   "cell_type": "code",
   "execution_count": 17,
   "metadata": {},
   "outputs": [
    {
     "data": {
      "image/png": "[encoded data removed]",
      "text/plain": [
       "<matplotlib.figure.Figure at 0x10f33f160>"
      ]
     },
     "metadata": {},
     "output_type": "display_data"
    }
   ],
   "source": [
    "# 平均20、標準偏差10の正規乱数を1,000件生成\n",
    "y = np.random.normal(20, 10, 1000)\n",
    "plt.hist([x, y], histtype='barstacked')\n",
    "plt.show()"
   ]
  },
  {
   "cell_type": "markdown",
   "metadata": {},
   "source": [
    "<div style=\"font-size:20px; color:pink; margin:20px\">\n",
    "</div>\n",
    "<div style=\"font-size:14px; color:white; margin:20px\">\n",
    "積み上げヒストグラムとして出力 (stacked オプションで指定)\n",
    "</div>"
   ]
  },
  {
   "cell_type": "code",
   "execution_count": 18,
   "metadata": {},
   "outputs": [
    {
     "data": {
      "image/png": "[encoded data removed]",
      "text/plain": [
       "<matplotlib.figure.Figure at 0x10f248dd8>"
      ]
     },
     "metadata": {},
     "output_type": "display_data"
    }
   ],
   "source": [
    "plt.hist([x,y], stacked='True')\n",
    "plt.show()"
   ]
  },
  {
   "cell_type": "markdown",
   "metadata": {},
   "source": [
    "<div style=\"font-size:20px; color:pink; margin:20px\">\n",
    "</div>\n",
    "<div style=\"font-size:14px; color:white; margin:20px\">\n",
    "積み上げヒストグラムの色を指定する\n",
    "</div>"
   ]
  },
  {
   "cell_type": "code",
   "execution_count": 19,
   "metadata": {},
   "outputs": [
    {
     "data": {
      "image/png": "[encoded data removed]",
      "text/plain": [
       "<matplotlib.figure.Figure at 0x10ee15da0>"
      ]
     },
     "metadata": {},
     "output_type": "display_data"
    }
   ],
   "source": [
    "plt.hist([x,y], stacked='True', color=['#f46d43', '#66bd63'])\n",
    "plt.show()"
   ]
  },
  {
   "cell_type": "markdown",
   "metadata": {},
   "source": [
    "<div style=\"font-size:20px; color:pink; margin:20px\">\n",
    "</div>\n",
    "<div style=\"font-size:14px; color:white; margin:20px\">\n",
    "積み上げ棒グラフとして出力しない（複数の棒を並べて描画）\n",
    "</div>"
   ]
  },
  {
   "cell_type": "code",
   "execution_count": 21,
   "metadata": {},
   "outputs": [
    {
     "data": {
      "image/png": "[encoded data removed]",
      "text/plain": [
       "<matplotlib.figure.Figure at 0x10f086a90>"
      ]
     },
     "metadata": {},
     "output_type": "display_data"
    }
   ],
   "source": [
    "plt.hist([x,y], stacked=False)\n",
    "plt.show()"
   ]
  },
  {
   "cell_type": "markdown",
   "metadata": {},
   "source": [
    "<div style=\"font-size:20px; color:pink; margin:20px\">\n",
    "</div>\n",
    "<div style=\"font-size:14px; color:white; margin:20px\">\n",
    "凡例を表示\n",
    "</div>"
   ]
  },
  {
   "cell_type": "code",
   "execution_count": 24,
   "metadata": {},
   "outputs": [
    {
     "data": {
      "image/png": "[encoded data removed]",
      "text/plain": [
       "<matplotlib.figure.Figure at 0x10f3775c0>"
      ]
     },
     "metadata": {},
     "output_type": "display_data"
    }
   ],
   "source": [
    "labels = ['V1', 'V2']\n",
    "plt.hist([x,y], label=labels)\n",
    "plt.legend()\n",
    "plt.show()"
   ]
  },
  {
   "cell_type": "code",
   "execution_count": null,
   "metadata": {
    "collapsed": true
   },
   "outputs": [],
   "source": []
  }
 ],
 "metadata": {
  "kernelspec": {
   "display_name": "Python 3",
   "language": "python",
   "name": "python3"
  },
  "language_info": {
   "codemirror_mode": {
    "name": "ipython",
    "version": 3
   },
   "file_extension": ".py",
   "mimetype": "text/x-python",
   "name": "python",
   "nbconvert_exporter": "python",
   "pygments_lexer": "ipython3",
   "version": "3.6.3"
  }
 },
 "nbformat": 4,
 "nbformat_minor": 2
}
