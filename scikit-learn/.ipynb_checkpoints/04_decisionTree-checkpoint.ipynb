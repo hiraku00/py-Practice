{
 "cells": [
  {
   "cell_type": "markdown",
   "metadata": {},
   "source": [
    "<div style=\"font-size:20px; color:pink; margin:20px\">\n",
    "scikit-learn で決定木分析 (CART 法)\n",
    "</div>\n",
    "<div style=\"font-size:14px; color:white; margin:20px\">\n",
    "決定木分析 (Decision Tree Analysis) は、機械学習の手法の一つで決定木と呼ばれる、<br>\n",
    "木を逆にしたようなデータ構造を用いて分類と回帰を行います。<br>\n",
    "なお、決定木分析は、ノンパラメトリックな教師あり学習に分類されます。<br>\n",
    "</div>"
   ]
  },
  {
   "cell_type": "markdown",
   "metadata": {},
   "source": [
    "<div style=\"font-size:20px; color:pink; margin:20px\">\n",
    "決定木分析の長所\n",
    "</div>\n",
    "<div style=\"font-size:14px; color:white; margin:20px\">\n",
    "決定木分析は他の分析手法と比較して、以下の特長があります。<br>\n",
    "<br>\n",
    "入力データから特徴を学習し、決定木と呼ばれる樹木状の構造で学習結果を視覚化でき、<br>\n",
    "ルールをシンプルに表現できる特徴があります。<br>\n",
    "他の多くの手法では、データの標準化 (正規化) やダミー変数の作成を必要とするのに対し、<br>\n",
    "決定木分析では、このような前処理の手間がほとんど不要です。<br>\n",
    "カテゴリカルデータ (名義尺度の変数) と数値データ (順序尺度、間隔尺度の変数) の両方を扱うことが可能です。<br>\n",
    "ニューラルネットなどのようなブラックボックスのモデルと比較して、決定木はホワイトボックスのモデルだといえ、<br>\n",
    "論理的に解釈することが容易です。<br>\n",
    "検定を行って、作成したモデルの正しさを評価することが可能です。<br>\n",
    "</div>"
   ]
  },
  {
   "cell_type": "markdown",
   "metadata": {},
   "source": [
    "<div style=\"font-size:20px; color:pink; margin:20px\">\n",
    "主要な決定木分析のアルゴリズム\n",
    "</div>\n",
    "<div style=\"font-size:14px; color:white; margin:20px\">\n",
    "決定木分析には、いくつかの手法が存在します。各手法の違いについて以下に述べます。<br>\n",
    "<br>\n",
    "ID3<br>\n",
    "ID3 (Iterative Dichotomiser 3) は、1986 年に、Ross Quinlan によって開発されました。<br>\n",
    "カテゴリカル変数に対して情報量を用いて、貪欲な手法 (≒ あるステップにおいて局所的に評価の高いパターンを選択する) で<br>\n",
    "木を構築します。<br>\n",
    "<br>\n",
    "C4.5<br>\n",
    "C4.5 は、ID3 の後継で、数値データの特徴量を動的に離散化するロジックを導入し、<br>\n",
    "全ての特徴量がカテゴリカル変数でなればならないという制約を取り除きました。<br>\n",
    "C4.5 は学習済みの木を if-then で表されるセットに変換し、<br>\n",
    "評価や枝刈り (決定木における不要な部分(枝)を取り除くこと) に用いられます。<br>\n",
    "<br>\n",
    "C5.0<br>\n",
    "C5.0 は C4.5 の改善版で、より少ないメモリ消費で動作するよう、パフォーマンスの改善が行われています。<br>\n",
    "<br>\n",
    "CART<br>\n",
    "CART (Classification and Regression Trees) は、C4.5 によく類似した手法ですが、<br>\n",
    "数値データで表現される目的変数 (=回帰) にも対応している特徴があります。<br>\n",
    "CART は、ルールセットを計算するのではなく、バイナリ・ツリーを構築します。<br>\n",
    "なお、scikit-learn は最適化したバージョンの CART を実装しています。<br>\n",
    "<br>\n",
    "scikit-learn に実装されている決定木分析<br>\n",
    "それでは、実際にデータを用いてモデルを作成して、その評価を行いましょう。<br>\n",
    "scikit-learn では決定木を用いた分類器は、sklearn.tree.DecisionTreeClassifier<br>\n",
    "というクラスで実装されています。<br>\n",
    "</div>"
   ]
  },
  {
   "cell_type": "markdown",
   "metadata": {},
   "source": [
    "<div style=\"font-size:20px; color:pink; margin:20px\">\n",
    "scikit-learn に実装されている決定木分析\n",
    "</div>\n",
    "<div style=\"font-size:14px; color:white; margin:20px\">\n",
    "それでは、実際にデータを用いてモデルを作成して、その評価を行いましょう。<br>\n",
    "scikit-learn では決定木を用いた分類器は、<br>\n",
    "sklearn.tree.DecisionTreeClassifier というクラスで実装されています。<br>\n",
    "<br>\n",
    "<p><b>sklearn.tree.DecisionTreeClassifier クラスの書式</b></p><!-- Crayon Syntax Highlighter v_2.7.2_beta -->\n",
    "\n",
    "\t\t<div id=\"crayon-5a45d2d26afa3146114250\" class=\"crayon-syntax crayon-theme-github crayon-font-monaco crayon-os-mac print-yes notranslate\" data-settings=\" no-popup minimize scroll-mouseover\" style=\" margin-top: 12px; margin-bottom: 12px; font-size: 13px !important; line-height: 16px !important;\">\n",
    "\t\t\n",
    "\t\t\t<div class=\"crayon-toolbar\" data-settings=\" show\" style=\"font-size: 13px !important;height: 19.5px !important; line-height: 19.5px !important;\"><span class=\"crayon-title\"></span>\n",
    "\t\t\t<div class=\"crayon-tools\" style=\"font-size: 13px !important;height: 19.5px !important; line-height: 19.5px !important;\"><div class=\"crayon-button crayon-wrap-button\" title=\"Toggle Line Wrap\"><div class=\"crayon-button-icon\"></div></div><span class=\"crayon-language\">Python</span></div></div>\n",
    "\t\t\t<div class=\"crayon-info\" style=\"min-height: 18.2px !important; line-height: 18.2px !important;\"></div>\n",
    "\t\t\t<div class=\"crayon-plain-wrap\"></div>\n",
    "\t\t\t<div class=\"crayon-main\" style=\"\">\n",
    "\t\t\t\t<table class=\"crayon-table\">\n",
    "\t\t\t\t\t<tr class=\"crayon-row\">\n",
    "\t\t\t\t<td class=\"crayon-nums \" data-settings=\"show\">\n",
    "\t\t\t\t\t<div class=\"crayon-nums-content\" style=\"font-size: 13px !important; line-height: 16px !important;\"><div class=\"crayon-num\" data-line=\"crayon-5a45d2d26afa3146114250-1\">1</div><div class=\"crayon-num\" data-line=\"crayon-5a45d2d26afa3146114250-2\">2</div><div class=\"crayon-num\" data-line=\"crayon-5a45d2d26afa3146114250-3\">3</div><div class=\"crayon-num\" data-line=\"crayon-5a45d2d26afa3146114250-4\">4</div><div class=\"crayon-num\" data-line=\"crayon-5a45d2d26afa3146114250-5\">5</div></div>\n",
    "\t\t\t\t</td>\n",
    "\t\t\t\t\t\t<td class=\"crayon-code\"><div class=\"crayon-pre\" style=\"font-size: 13px !important; line-height: 16px !important; -moz-tab-size:4; -o-tab-size:4; -webkit-tab-size:4; tab-size:4;\"><div class=\"crayon-line\" id=\"crayon-5a45d2d26afa3146114250-1\"><span class=\"crayon-v\">sklearn</span><span class=\"crayon-sy\">.</span><span class=\"crayon-v\">tree</span><span class=\"crayon-sy\">.</span><span class=\"crayon-e\">DecisionTreeClassifier</span><span class=\"crayon-sy\">(</span><span class=\"crayon-v\">criterion</span><span class=\"crayon-o\">=</span><span class=\"crayon-s\">'gini'</span><span class=\"crayon-sy\">,</span></div><div class=\"crayon-line\" id=\"crayon-5a45d2d26afa3146114250-2\"><span class=\"crayon-h\">&nbsp;&nbsp;</span><span class=\"crayon-v\">splitter</span><span class=\"crayon-o\">=</span><span class=\"crayon-s\">'best'</span><span class=\"crayon-sy\">,</span><span class=\"crayon-h\"> </span><span class=\"crayon-v\">max_depth</span><span class=\"crayon-o\">=</span><span class=\"crayon-t\">None</span><span class=\"crayon-sy\">,</span><span class=\"crayon-h\"> </span><span class=\"crayon-v\">min_samples_split</span><span class=\"crayon-o\">=</span><span class=\"crayon-cn\">2</span><span class=\"crayon-sy\">,</span></div><div class=\"crayon-line\" id=\"crayon-5a45d2d26afa3146114250-3\"><span class=\"crayon-h\">&nbsp;&nbsp;</span><span class=\"crayon-v\">min_samples_leaf</span><span class=\"crayon-o\">=</span><span class=\"crayon-cn\">1</span><span class=\"crayon-sy\">,</span><span class=\"crayon-h\"> </span><span class=\"crayon-v\">min_weight_fraction_leaf</span><span class=\"crayon-o\">=</span><span class=\"crayon-cn\">0.0</span><span class=\"crayon-sy\">,</span></div><div class=\"crayon-line\" id=\"crayon-5a45d2d26afa3146114250-4\"><span class=\"crayon-h\">&nbsp;&nbsp;</span><span class=\"crayon-v\">max_features</span><span class=\"crayon-o\">=</span><span class=\"crayon-t\">None</span><span class=\"crayon-sy\">,</span><span class=\"crayon-h\"> </span><span class=\"crayon-v\">random_state</span><span class=\"crayon-o\">=</span><span class=\"crayon-t\">None</span><span class=\"crayon-sy\">,</span></div><div class=\"crayon-line\" id=\"crayon-5a45d2d26afa3146114250-5\"><span class=\"crayon-h\">&nbsp;&nbsp;</span><span class=\"crayon-v\">max_leaf_nodes</span><span class=\"crayon-o\">=</span><span class=\"crayon-t\">None</span><span class=\"crayon-sy\">,</span><span class=\"crayon-h\"> </span><span class=\"crayon-v\">class_weight</span><span class=\"crayon-o\">=</span><span class=\"crayon-t\">None</span><span class=\"crayon-sy\">,</span><span class=\"crayon-h\"> </span><span class=\"crayon-v\">presort</span><span class=\"crayon-o\">=</span><span class=\"crayon-t\">False</span><span class=\"crayon-sy\">)</span></div></div></td>\n",
    "\t\t\t\t\t</tr>\n",
    "\t\t\t\t</table>\n",
    "\t\t\t</div>\n",
    "\t\t</div>\n",
    "<!-- [Format Time: 0.0045 seconds] -->\n",
    "<p></p>\n",
    "<p><b>sklearn.tree.DecisionTreeClassifier クラスの引数</b> (<a href=\"http://scikit-learn.org/stable/modules/generated/sklearn.tree.DecisionTreeClassifier.html#sklearn.tree.DecisionTreeClassifier\" target=\"_blank\">詳細</a>)</p>\n",
    "<table>\n",
    "<tr>\n",
    "<th>criterion<br /> (string, 任意)</th>\n",
    "<td>分割する際に利用する品質。ジニ係数を利用する &#8220;gini&#8221; と情報量を示す &#8220;entropy&#8221; のいずれかを指定。(省略時は &#8220;gini&#8221;)</td>\n",
    "</tr>\n",
    "<tr>\n",
    "<th>splitter<br /> (string, 任意)</th>\n",
    "<td>各ノードにおいて分割を行う方法を選択。&#8221;best&#8221; (最適) または &#8220;random&#8221; (ランダム最適) を選択。(省略時は &#8220;best&#8221;)</td>\n",
    "</tr>\n",
    "<tr>\n",
    "<th>max_features<br /> (int, float, string または None, 任意)</th>\n",
    "<td>最適な分割を探索する際に用いる特徴数の最大値。</td>\n",
    "</tr>\n",
    "<tr>\n",
    "<th>max_depth<br /> (int または None, 任意)</th>\n",
    "<td>作成する決定木の深さの最大値。 (省略時は None)</td>\n",
    "</tr>\n",
    "<tr>\n",
    "<th>min_samples_split<br /> (int, 任意)</th>\n",
    "<td>サンプルを枝に分割する数の際の枝の数の最小値。 (省略時は 2)</td>\n",
    "</tr>\n",
    "<tr>\n",
    "<th>min_samples_leaf<br /> (int, 任意)</th>\n",
    "<td>1 つのサンプルが属する葉の数の最小値。 (省略時は 1)</td>\n",
    "</tr>\n",
    "<tr>\n",
    "<th>min_weight_fraction_leaf<br /> (float, 任意)</th>\n",
    "<td>1 つの葉に属する必要のあるサンプルの割合の最小値。 (省略時は 0.0)</td>\n",
    "</tr>\n",
    "<tr>\n",
    "<th>max_leaf_nodes<br /> (int または None, 任意) </th>\n",
    "<td>作成する葉の数の最大値。数値を指定した場合は、<code>max_depth</code> が無視されます。 (省略時は None)</td>\n",
    "</tr>\n",
    "<tr>\n",
    "<th>class_weight<br /> (dict, list of dicts, &#8220;balanced&#8221; または None, 任意)</th>\n",
    "<td>各説明変数に対する重み。 (省略時は None)</td>\n",
    "</tr>\n",
    "<tr>\n",
    "<th>random_state<br /> (int, RandomState instance or None, 任意)</th>\n",
    "<td> 乱数のシードを指定。指定しない場合は、 <code>np.random</code> を利用します。 (省略時は None)</td>\n",
    "</tr>\n",
    "<tr>\n",
    "<th>presort<br /> (bool, 任意)</th>\n",
    "<td>高速化の目的で事前に入力データのソートを行うかどうか。 (省略時は False)</td>\n",
    "</tr>\n",
    "</table>\n",
    "</div>"
   ]
  },
  {
   "cell_type": "markdown",
   "metadata": {},
   "source": [
    "<div style=\"font-size:20px; color:pink; margin:20px\">\n",
    "scikit-learn を用いた決定木の作成\n",
    "</div>\n",
    "<div style=\"font-size:14px; color:white; margin:20px\">\n",
    "今回の分析例では、scikit-learn に付属のデータセット、Iris を利用します。<br>\n",
    "このデータセットには、アヤメのがく片や花弁の幅、長さと、そのアヤメの品種が 150 個体分記録されています。<br>\n",
    "今回は、がく片や花弁の幅、長さを説明変数 (教師データ) 、アヤメの品種を目的変数 (正解データ) として扱い、<br>\n",
    "分類する決定木を作成します。<br>\n",
    "</div>"
   ]
  },
  {
   "cell_type": "code",
   "execution_count": 3,
   "metadata": {},
   "outputs": [],
   "source": [
    "# データを読み込み\n",
    "from sklearn.datasets import load_iris\n",
    "iris = load_iris()"
   ]
  },
  {
   "cell_type": "code",
   "execution_count": 4,
   "metadata": {},
   "outputs": [
    {
     "data": {
      "text/plain": [
       "array([[ 5.1,  3.5,  1.4,  0.2],\n",
       "       [ 4.9,  3. ,  1.4,  0.2],\n",
       "       [ 4.7,  3.2,  1.3,  0.2],\n",
       "       [ 4.6,  3.1,  1.5,  0.2],\n",
       "       [ 5. ,  3.6,  1.4,  0.2],\n",
       "       [ 5.4,  3.9,  1.7,  0.4],\n",
       "       [ 4.6,  3.4,  1.4,  0.3],\n",
       "       [ 5. ,  3.4,  1.5,  0.2],\n",
       "       [ 4.4,  2.9,  1.4,  0.2],\n",
       "       [ 4.9,  3.1,  1.5,  0.1],\n",
       "       [ 5.4,  3.7,  1.5,  0.2],\n",
       "       [ 4.8,  3.4,  1.6,  0.2],\n",
       "       [ 4.8,  3. ,  1.4,  0.1],\n",
       "       [ 4.3,  3. ,  1.1,  0.1],\n",
       "       [ 5.8,  4. ,  1.2,  0.2],\n",
       "       [ 5.7,  4.4,  1.5,  0.4],\n",
       "       [ 5.4,  3.9,  1.3,  0.4],\n",
       "       [ 5.1,  3.5,  1.4,  0.3],\n",
       "       [ 5.7,  3.8,  1.7,  0.3],\n",
       "       [ 5.1,  3.8,  1.5,  0.3],\n",
       "       [ 5.4,  3.4,  1.7,  0.2],\n",
       "       [ 5.1,  3.7,  1.5,  0.4],\n",
       "       [ 4.6,  3.6,  1. ,  0.2],\n",
       "       [ 5.1,  3.3,  1.7,  0.5],\n",
       "       [ 4.8,  3.4,  1.9,  0.2],\n",
       "       [ 5. ,  3. ,  1.6,  0.2],\n",
       "       [ 5. ,  3.4,  1.6,  0.4],\n",
       "       [ 5.2,  3.5,  1.5,  0.2],\n",
       "       [ 5.2,  3.4,  1.4,  0.2],\n",
       "       [ 4.7,  3.2,  1.6,  0.2],\n",
       "       [ 4.8,  3.1,  1.6,  0.2],\n",
       "       [ 5.4,  3.4,  1.5,  0.4],\n",
       "       [ 5.2,  4.1,  1.5,  0.1],\n",
       "       [ 5.5,  4.2,  1.4,  0.2],\n",
       "       [ 4.9,  3.1,  1.5,  0.1],\n",
       "       [ 5. ,  3.2,  1.2,  0.2],\n",
       "       [ 5.5,  3.5,  1.3,  0.2],\n",
       "       [ 4.9,  3.1,  1.5,  0.1],\n",
       "       [ 4.4,  3. ,  1.3,  0.2],\n",
       "       [ 5.1,  3.4,  1.5,  0.2],\n",
       "       [ 5. ,  3.5,  1.3,  0.3],\n",
       "       [ 4.5,  2.3,  1.3,  0.3],\n",
       "       [ 4.4,  3.2,  1.3,  0.2],\n",
       "       [ 5. ,  3.5,  1.6,  0.6],\n",
       "       [ 5.1,  3.8,  1.9,  0.4],\n",
       "       [ 4.8,  3. ,  1.4,  0.3],\n",
       "       [ 5.1,  3.8,  1.6,  0.2],\n",
       "       [ 4.6,  3.2,  1.4,  0.2],\n",
       "       [ 5.3,  3.7,  1.5,  0.2],\n",
       "       [ 5. ,  3.3,  1.4,  0.2],\n",
       "       [ 7. ,  3.2,  4.7,  1.4],\n",
       "       [ 6.4,  3.2,  4.5,  1.5],\n",
       "       [ 6.9,  3.1,  4.9,  1.5],\n",
       "       [ 5.5,  2.3,  4. ,  1.3],\n",
       "       [ 6.5,  2.8,  4.6,  1.5],\n",
       "       [ 5.7,  2.8,  4.5,  1.3],\n",
       "       [ 6.3,  3.3,  4.7,  1.6],\n",
       "       [ 4.9,  2.4,  3.3,  1. ],\n",
       "       [ 6.6,  2.9,  4.6,  1.3],\n",
       "       [ 5.2,  2.7,  3.9,  1.4],\n",
       "       [ 5. ,  2. ,  3.5,  1. ],\n",
       "       [ 5.9,  3. ,  4.2,  1.5],\n",
       "       [ 6. ,  2.2,  4. ,  1. ],\n",
       "       [ 6.1,  2.9,  4.7,  1.4],\n",
       "       [ 5.6,  2.9,  3.6,  1.3],\n",
       "       [ 6.7,  3.1,  4.4,  1.4],\n",
       "       [ 5.6,  3. ,  4.5,  1.5],\n",
       "       [ 5.8,  2.7,  4.1,  1. ],\n",
       "       [ 6.2,  2.2,  4.5,  1.5],\n",
       "       [ 5.6,  2.5,  3.9,  1.1],\n",
       "       [ 5.9,  3.2,  4.8,  1.8],\n",
       "       [ 6.1,  2.8,  4. ,  1.3],\n",
       "       [ 6.3,  2.5,  4.9,  1.5],\n",
       "       [ 6.1,  2.8,  4.7,  1.2],\n",
       "       [ 6.4,  2.9,  4.3,  1.3],\n",
       "       [ 6.6,  3. ,  4.4,  1.4],\n",
       "       [ 6.8,  2.8,  4.8,  1.4],\n",
       "       [ 6.7,  3. ,  5. ,  1.7],\n",
       "       [ 6. ,  2.9,  4.5,  1.5],\n",
       "       [ 5.7,  2.6,  3.5,  1. ],\n",
       "       [ 5.5,  2.4,  3.8,  1.1],\n",
       "       [ 5.5,  2.4,  3.7,  1. ],\n",
       "       [ 5.8,  2.7,  3.9,  1.2],\n",
       "       [ 6. ,  2.7,  5.1,  1.6],\n",
       "       [ 5.4,  3. ,  4.5,  1.5],\n",
       "       [ 6. ,  3.4,  4.5,  1.6],\n",
       "       [ 6.7,  3.1,  4.7,  1.5],\n",
       "       [ 6.3,  2.3,  4.4,  1.3],\n",
       "       [ 5.6,  3. ,  4.1,  1.3],\n",
       "       [ 5.5,  2.5,  4. ,  1.3],\n",
       "       [ 5.5,  2.6,  4.4,  1.2],\n",
       "       [ 6.1,  3. ,  4.6,  1.4],\n",
       "       [ 5.8,  2.6,  4. ,  1.2],\n",
       "       [ 5. ,  2.3,  3.3,  1. ],\n",
       "       [ 5.6,  2.7,  4.2,  1.3],\n",
       "       [ 5.7,  3. ,  4.2,  1.2],\n",
       "       [ 5.7,  2.9,  4.2,  1.3],\n",
       "       [ 6.2,  2.9,  4.3,  1.3],\n",
       "       [ 5.1,  2.5,  3. ,  1.1],\n",
       "       [ 5.7,  2.8,  4.1,  1.3],\n",
       "       [ 6.3,  3.3,  6. ,  2.5],\n",
       "       [ 5.8,  2.7,  5.1,  1.9],\n",
       "       [ 7.1,  3. ,  5.9,  2.1],\n",
       "       [ 6.3,  2.9,  5.6,  1.8],\n",
       "       [ 6.5,  3. ,  5.8,  2.2],\n",
       "       [ 7.6,  3. ,  6.6,  2.1],\n",
       "       [ 4.9,  2.5,  4.5,  1.7],\n",
       "       [ 7.3,  2.9,  6.3,  1.8],\n",
       "       [ 6.7,  2.5,  5.8,  1.8],\n",
       "       [ 7.2,  3.6,  6.1,  2.5],\n",
       "       [ 6.5,  3.2,  5.1,  2. ],\n",
       "       [ 6.4,  2.7,  5.3,  1.9],\n",
       "       [ 6.8,  3. ,  5.5,  2.1],\n",
       "       [ 5.7,  2.5,  5. ,  2. ],\n",
       "       [ 5.8,  2.8,  5.1,  2.4],\n",
       "       [ 6.4,  3.2,  5.3,  2.3],\n",
       "       [ 6.5,  3. ,  5.5,  1.8],\n",
       "       [ 7.7,  3.8,  6.7,  2.2],\n",
       "       [ 7.7,  2.6,  6.9,  2.3],\n",
       "       [ 6. ,  2.2,  5. ,  1.5],\n",
       "       [ 6.9,  3.2,  5.7,  2.3],\n",
       "       [ 5.6,  2.8,  4.9,  2. ],\n",
       "       [ 7.7,  2.8,  6.7,  2. ],\n",
       "       [ 6.3,  2.7,  4.9,  1.8],\n",
       "       [ 6.7,  3.3,  5.7,  2.1],\n",
       "       [ 7.2,  3.2,  6. ,  1.8],\n",
       "       [ 6.2,  2.8,  4.8,  1.8],\n",
       "       [ 6.1,  3. ,  4.9,  1.8],\n",
       "       [ 6.4,  2.8,  5.6,  2.1],\n",
       "       [ 7.2,  3. ,  5.8,  1.6],\n",
       "       [ 7.4,  2.8,  6.1,  1.9],\n",
       "       [ 7.9,  3.8,  6.4,  2. ],\n",
       "       [ 6.4,  2.8,  5.6,  2.2],\n",
       "       [ 6.3,  2.8,  5.1,  1.5],\n",
       "       [ 6.1,  2.6,  5.6,  1.4],\n",
       "       [ 7.7,  3. ,  6.1,  2.3],\n",
       "       [ 6.3,  3.4,  5.6,  2.4],\n",
       "       [ 6.4,  3.1,  5.5,  1.8],\n",
       "       [ 6. ,  3. ,  4.8,  1.8],\n",
       "       [ 6.9,  3.1,  5.4,  2.1],\n",
       "       [ 6.7,  3.1,  5.6,  2.4],\n",
       "       [ 6.9,  3.1,  5.1,  2.3],\n",
       "       [ 5.8,  2.7,  5.1,  1.9],\n",
       "       [ 6.8,  3.2,  5.9,  2.3],\n",
       "       [ 6.7,  3.3,  5.7,  2.5],\n",
       "       [ 6.7,  3. ,  5.2,  2.3],\n",
       "       [ 6.3,  2.5,  5. ,  1.9],\n",
       "       [ 6.5,  3. ,  5.2,  2. ],\n",
       "       [ 6.2,  3.4,  5.4,  2.3],\n",
       "       [ 5.9,  3. ,  5.1,  1.8]])"
      ]
     },
     "execution_count": 4,
     "metadata": {},
     "output_type": "execute_result"
    }
   ],
   "source": [
    "# 説明変数(それぞれ、がく片や花弁の幅、長さを示します)\n",
    "iris.data"
   ]
  },
  {
   "cell_type": "code",
   "execution_count": 5,
   "metadata": {},
   "outputs": [
    {
     "data": {
      "text/plain": [
       "array([0, 0, 0, 0, 0, 0, 0, 0, 0, 0, 0, 0, 0, 0, 0, 0, 0, 0, 0, 0, 0, 0, 0,\n",
       "       0, 0, 0, 0, 0, 0, 0, 0, 0, 0, 0, 0, 0, 0, 0, 0, 0, 0, 0, 0, 0, 0, 0,\n",
       "       0, 0, 0, 0, 1, 1, 1, 1, 1, 1, 1, 1, 1, 1, 1, 1, 1, 1, 1, 1, 1, 1, 1,\n",
       "       1, 1, 1, 1, 1, 1, 1, 1, 1, 1, 1, 1, 1, 1, 1, 1, 1, 1, 1, 1, 1, 1, 1,\n",
       "       1, 1, 1, 1, 1, 1, 1, 1, 2, 2, 2, 2, 2, 2, 2, 2, 2, 2, 2, 2, 2, 2, 2,\n",
       "       2, 2, 2, 2, 2, 2, 2, 2, 2, 2, 2, 2, 2, 2, 2, 2, 2, 2, 2, 2, 2, 2, 2,\n",
       "       2, 2, 2, 2, 2, 2, 2, 2, 2, 2, 2, 2])"
      ]
     },
     "execution_count": 5,
     "metadata": {},
     "output_type": "execute_result"
    }
   ],
   "source": [
    "# 目的変数(0,1,2がそれぞれの品種を表しますs)\n",
    "iris.target"
   ]
  },
  {
   "cell_type": "markdown",
   "metadata": {},
   "source": [
    "<div style=\"font-size:20px; color:pink; margin:20px\">\n",
    "\n",
    "</div>\n",
    "<div style=\"font-size:14px; color:white; margin:20px\">\n",
    "scikit-learn にて決定木による分類が実装されているクラス、<br>\n",
    "tree.DecisionTreeClassifier クラスの fit メソッドに、説明変数と目的変数の両方を与え、<br>\n",
    "モデル (=決定木) を作成します。今回は木の深さの最大値として、max_depth=3 を指定しています。<br>\n",
    "</div>"
   ]
  },
  {
   "cell_type": "code",
   "execution_count": 6,
   "metadata": {
    "collapsed": true
   },
   "outputs": [],
   "source": [
    "# モデルを作成\n",
    "from sklearn import tree\n",
    "clf = tree.DecisionTreeClassifier(max_depth=3)\n",
    "clf = clf.fit(iris.data, iris.target)"
   ]
  },
  {
   "cell_type": "markdown",
   "metadata": {},
   "source": [
    "<div style=\"font-size:20px; color:pink; margin:20px\">\n",
    "\n",
    "</div>\n",
    "<div style=\"font-size:14px; color:white; margin:20px\">\n",
    "次に、作成したモデルに説明変数のみを与え、モデルを用いて予測 (分類) を実行します。\n",
    "</div>"
   ]
  },
  {
   "cell_type": "code",
   "execution_count": 7,
   "metadata": {},
   "outputs": [
    {
     "data": {
      "text/plain": [
       "array([0, 0, 0, 0, 0, 0, 0, 0, 0, 0, 0, 0, 0, 0, 0, 0, 0, 0, 0, 0, 0, 0, 0,\n",
       "       0, 0, 0, 0, 0, 0, 0, 0, 0, 0, 0, 0, 0, 0, 0, 0, 0, 0, 0, 0, 0, 0, 0,\n",
       "       0, 0, 0, 0, 1, 1, 1, 1, 1, 1, 1, 1, 1, 1, 1, 1, 1, 1, 1, 1, 1, 1, 1,\n",
       "       1, 2, 1, 1, 1, 1, 1, 1, 2, 1, 1, 1, 1, 1, 2, 1, 1, 1, 1, 1, 1, 1, 1,\n",
       "       1, 1, 1, 1, 1, 1, 1, 1, 2, 2, 2, 2, 2, 2, 1, 2, 2, 2, 2, 2, 2, 2, 2,\n",
       "       2, 2, 2, 2, 2, 2, 2, 2, 2, 2, 2, 2, 2, 2, 2, 2, 2, 2, 2, 2, 2, 2, 2,\n",
       "       2, 2, 2, 2, 2, 2, 2, 2, 2, 2, 2, 2])"
      ]
     },
     "execution_count": 7,
     "metadata": {},
     "output_type": "execute_result"
    }
   ],
   "source": [
    "# 作成したモデルを用いて予測を実行\n",
    "predicted = clf.predict(iris.data)\n",
    "\n",
    "# 予測結果\n",
    "predicted"
   ]
  },
  {
   "cell_type": "markdown",
   "metadata": {},
   "source": [
    "<div style=\"font-size:20px; color:pink; margin:20px\">\n",
    "\n",
    "</div>\n",
    "<div style=\"font-size:14px; color:white; margin:20px\">\n",
    "予測された結果と実際の目的変数を比較し、識別率 (正しく分類された割合) を計算します。<br>\n",
    "計算の結果、約 0.973 (約 97 %) の精度で正しく分類できたことがわかります。<br>\n",
    "</div>"
   ]
  },
  {
   "cell_type": "code",
   "execution_count": 8,
   "metadata": {},
   "outputs": [
    {
     "data": {
      "text/plain": [
       "0.97333333333333338"
      ]
     },
     "execution_count": 8,
     "metadata": {},
     "output_type": "execute_result"
    }
   ],
   "source": [
    "# 識別率を確認\n",
    "sum(predicted == iris.target) / len(iris.target)"
   ]
  },
  {
   "cell_type": "markdown",
   "metadata": {},
   "source": [
    "<div style=\"font-size:20px; color:pink; margin:20px\">\n",
    "決定木の可視化\n",
    "</div>\n",
    "<div style=\"font-size:14px; color:white; margin:20px\">\n",
    "作成した決定木は、DOT ファイルとして、木構造を可視化できるようにエクスポートすることができます。<br\n",
    ">作成した DOT ファイルはオープンソースのグラフ可視化ソフトウェア、 GraphViz を利用して、開くことができます。<br>\n",
    "<br>\n",
    "本例では引数に、<br>\n",
    "各説明変数の名前の指定 feature_names=iris.feature_names 、<br>\n",
    "目的変数の名前の指定class_names=iris.target_names 、<br>\n",
    "枝に色を塗る filled=True 指定と、<br>\n",
    "枝の角を丸めるrounded=True 指定を行っています。\n",
    "</div>"
   ]
  },
  {
   "cell_type": "code",
   "execution_count": 14,
   "metadata": {
    "collapsed": true
   },
   "outputs": [],
   "source": [
    "tree.export_graphviz(clf, out_file=\"tree.dot\",\n",
    "                    feature_names=iris.feature_names,\n",
    "                    class_names=iris.target_names,\n",
    "                    filled=True, rounded=True)"
   ]
  },
  {
   "cell_type": "markdown",
   "metadata": {},
   "source": [
    "<div style=\"font-size:20px; color:pink; margin:20px\">\n",
    "\n",
    "</div>\n",
    "<div style=\"font-size:14px; color:white; margin:20px\">\n",
    "DOT ファイルはやや馴染みのないファイル形式かと思いますが、<br>\n",
    "pydotplus パッケージを利用することで、PDF ファイルとして出力することができます。\n",
    "</div>"
   ]
  },
  {
   "cell_type": "code",
   "execution_count": 57,
   "metadata": {},
   "outputs": [
    {
     "ename": "InvocationException",
     "evalue": "GraphViz's executables not found",
     "output_type": "error",
     "traceback": [
      "\u001b[0;31m---------------------------------------------------------------------------\u001b[0m",
      "\u001b[0;31mInvocationException\u001b[0m                       Traceback (most recent call last)",
      "\u001b[0;32m<ipython-input-57-7ed33020828e>\u001b[0m in \u001b[0;36m<module>\u001b[0;34m()\u001b[0m\n\u001b[1;32m      9\u001b[0m \u001b[0;34m\u001b[0m\u001b[0m\n\u001b[1;32m     10\u001b[0m \u001b[0;31m# PDFファイルに出力\u001b[0m\u001b[0;34m\u001b[0m\u001b[0;34m\u001b[0m\u001b[0m\n\u001b[0;32m---> 11\u001b[0;31m \u001b[0mgraph\u001b[0m\u001b[0;34m.\u001b[0m\u001b[0mwrite_pdf\u001b[0m\u001b[0;34m(\u001b[0m\u001b[0;34m\"graph.pdf\"\u001b[0m\u001b[0;34m)\u001b[0m\u001b[0;34m\u001b[0m\u001b[0m\n\u001b[0m",
      "\u001b[0;32m~/anaconda3/lib/python3.6/site-packages/pydotplus/graphviz.py\u001b[0m in \u001b[0;36m<lambda>\u001b[0;34m(path, f, prog)\u001b[0m\n\u001b[1;32m   1808\u001b[0m                 \u001b[0;32mlambda\u001b[0m \u001b[0mpath\u001b[0m\u001b[0;34m,\u001b[0m\u001b[0;34m\u001b[0m\u001b[0m\n\u001b[1;32m   1809\u001b[0m                 \u001b[0mf\u001b[0m\u001b[0;34m=\u001b[0m\u001b[0mfrmt\u001b[0m\u001b[0;34m,\u001b[0m\u001b[0;34m\u001b[0m\u001b[0m\n\u001b[0;32m-> 1810\u001b[0;31m                 \u001b[0mprog\u001b[0m\u001b[0;34m=\u001b[0m\u001b[0mself\u001b[0m\u001b[0;34m.\u001b[0m\u001b[0mprog\u001b[0m\u001b[0;34m:\u001b[0m \u001b[0mself\u001b[0m\u001b[0;34m.\u001b[0m\u001b[0mwrite\u001b[0m\u001b[0;34m(\u001b[0m\u001b[0mpath\u001b[0m\u001b[0;34m,\u001b[0m \u001b[0mformat\u001b[0m\u001b[0;34m=\u001b[0m\u001b[0mf\u001b[0m\u001b[0;34m,\u001b[0m \u001b[0mprog\u001b[0m\u001b[0;34m=\u001b[0m\u001b[0mprog\u001b[0m\u001b[0;34m)\u001b[0m\u001b[0;34m\u001b[0m\u001b[0m\n\u001b[0m\u001b[1;32m   1811\u001b[0m             )\n\u001b[1;32m   1812\u001b[0m \u001b[0;34m\u001b[0m\u001b[0m\n",
      "\u001b[0;32m~/anaconda3/lib/python3.6/site-packages/pydotplus/graphviz.py\u001b[0m in \u001b[0;36mwrite\u001b[0;34m(self, path, prog, format)\u001b[0m\n\u001b[1;32m   1916\u001b[0m \u001b[0;34m\u001b[0m\u001b[0m\n\u001b[1;32m   1917\u001b[0m             \u001b[0;32melse\u001b[0m\u001b[0;34m:\u001b[0m\u001b[0;34m\u001b[0m\u001b[0m\n\u001b[0;32m-> 1918\u001b[0;31m                 \u001b[0mfobj\u001b[0m\u001b[0;34m.\u001b[0m\u001b[0mwrite\u001b[0m\u001b[0;34m(\u001b[0m\u001b[0mself\u001b[0m\u001b[0;34m.\u001b[0m\u001b[0mcreate\u001b[0m\u001b[0;34m(\u001b[0m\u001b[0mprog\u001b[0m\u001b[0;34m,\u001b[0m \u001b[0mformat\u001b[0m\u001b[0;34m)\u001b[0m\u001b[0;34m)\u001b[0m\u001b[0;34m\u001b[0m\u001b[0m\n\u001b[0m\u001b[1;32m   1919\u001b[0m         \u001b[0;32mfinally\u001b[0m\u001b[0;34m:\u001b[0m\u001b[0;34m\u001b[0m\u001b[0m\n\u001b[1;32m   1920\u001b[0m             \u001b[0;32mif\u001b[0m \u001b[0mclose\u001b[0m\u001b[0;34m:\u001b[0m\u001b[0;34m\u001b[0m\u001b[0m\n",
      "\u001b[0;32m~/anaconda3/lib/python3.6/site-packages/pydotplus/graphviz.py\u001b[0m in \u001b[0;36mcreate\u001b[0;34m(self, prog, format)\u001b[0m\n\u001b[1;32m   1958\u001b[0m             \u001b[0;32mif\u001b[0m \u001b[0mself\u001b[0m\u001b[0;34m.\u001b[0m\u001b[0mprogs\u001b[0m \u001b[0;32mis\u001b[0m \u001b[0;32mNone\u001b[0m\u001b[0;34m:\u001b[0m\u001b[0;34m\u001b[0m\u001b[0m\n\u001b[1;32m   1959\u001b[0m                 raise InvocationException(\n\u001b[0;32m-> 1960\u001b[0;31m                     'GraphViz\\'s executables not found')\n\u001b[0m\u001b[1;32m   1961\u001b[0m \u001b[0;34m\u001b[0m\u001b[0m\n\u001b[1;32m   1962\u001b[0m         \u001b[0;32mif\u001b[0m \u001b[0mprog\u001b[0m \u001b[0;32mnot\u001b[0m \u001b[0;32min\u001b[0m \u001b[0mself\u001b[0m\u001b[0;34m.\u001b[0m\u001b[0mprogs\u001b[0m\u001b[0;34m:\u001b[0m\u001b[0;34m\u001b[0m\u001b[0m\n",
      "\u001b[0;31mInvocationException\u001b[0m: GraphViz's executables not found"
     ]
    }
   ],
   "source": [
    "# 作成した決定木を可視化\n",
    "import pydotplus\n",
    "from sklearn.externals.six import StringIO\n",
    "\n",
    "dot_data = StringIO()\n",
    "tree.export_graphviz(clf, out_file=dot_data)\n",
    "graph = pydotplus.graph_from_dot_data(dot_data.getvalue())\n",
    "graph\n",
    "\n",
    "# PDFファイルに出力\n",
    "# graph.write_pdf(\"graph.pdf\")"
   ]
  },
  {
   "cell_type": "markdown",
   "metadata": {},
   "source": [
    "<div style=\"font-size:20px; color:pink; margin:20px\">\n",
    "\n",
    "</div>\n",
    "<div style=\"font-size:14px; color:white; margin:20px\">\n",
    "Jupyter や IPython NoteBook を使っている場合は、以下のようにしてノートブック内に可視化することができます。<br>\n",
    "このような方法であれば、作成した決定木を確認しながらモデル作成できるので効率よく分析作業が進められるでしょう。\n",
    "</div>"
   ]
  },
  {
   "cell_type": "code",
   "execution_count": 53,
   "metadata": {},
   "outputs": [
    {
     "ename": "InvocationException",
     "evalue": "GraphViz's executables not found",
     "output_type": "error",
     "traceback": [
      "\u001b[0;31m---------------------------------------------------------------------------\u001b[0m",
      "\u001b[0;31mInvocationException\u001b[0m                       Traceback (most recent call last)",
      "\u001b[0;32m<ipython-input-53-c8b057323f32>\u001b[0m in \u001b[0;36m<module>\u001b[0;34m()\u001b[0m\n\u001b[1;32m      2\u001b[0m \u001b[0;32mfrom\u001b[0m \u001b[0mIPython\u001b[0m\u001b[0;34m.\u001b[0m\u001b[0mdisplay\u001b[0m \u001b[0;32mimport\u001b[0m \u001b[0mImage\u001b[0m\u001b[0;34m\u001b[0m\u001b[0m\n\u001b[1;32m      3\u001b[0m \u001b[0;31m# graph = pydotplus.graphviz.graph_from_dot_file(dot_data.getvalue())\u001b[0m\u001b[0;34m\u001b[0m\u001b[0;34m\u001b[0m\u001b[0m\n\u001b[0;32m----> 4\u001b[0;31m \u001b[0mImage\u001b[0m\u001b[0;34m(\u001b[0m\u001b[0mgraph\u001b[0m\u001b[0;34m.\u001b[0m\u001b[0mcreate_png\u001b[0m\u001b[0;34m(\u001b[0m\u001b[0;34m)\u001b[0m\u001b[0;34m)\u001b[0m\u001b[0;34m\u001b[0m\u001b[0m\n\u001b[0m",
      "\u001b[0;32m~/anaconda3/lib/python3.6/site-packages/pydotplus/graphviz.py\u001b[0m in \u001b[0;36m<lambda>\u001b[0;34m(f, prog)\u001b[0m\n\u001b[1;32m   1795\u001b[0m             self.__setattr__(\n\u001b[1;32m   1796\u001b[0m                 \u001b[0;34m'create_'\u001b[0m \u001b[0;34m+\u001b[0m \u001b[0mfrmt\u001b[0m\u001b[0;34m,\u001b[0m\u001b[0;34m\u001b[0m\u001b[0m\n\u001b[0;32m-> 1797\u001b[0;31m                 \u001b[0;32mlambda\u001b[0m \u001b[0mf\u001b[0m\u001b[0;34m=\u001b[0m\u001b[0mfrmt\u001b[0m\u001b[0;34m,\u001b[0m \u001b[0mprog\u001b[0m\u001b[0;34m=\u001b[0m\u001b[0mself\u001b[0m\u001b[0;34m.\u001b[0m\u001b[0mprog\u001b[0m\u001b[0;34m:\u001b[0m \u001b[0mself\u001b[0m\u001b[0;34m.\u001b[0m\u001b[0mcreate\u001b[0m\u001b[0;34m(\u001b[0m\u001b[0mformat\u001b[0m\u001b[0;34m=\u001b[0m\u001b[0mf\u001b[0m\u001b[0;34m,\u001b[0m \u001b[0mprog\u001b[0m\u001b[0;34m=\u001b[0m\u001b[0mprog\u001b[0m\u001b[0;34m)\u001b[0m\u001b[0;34m\u001b[0m\u001b[0m\n\u001b[0m\u001b[1;32m   1798\u001b[0m             )\n\u001b[1;32m   1799\u001b[0m             \u001b[0mf\u001b[0m \u001b[0;34m=\u001b[0m \u001b[0mself\u001b[0m\u001b[0;34m.\u001b[0m\u001b[0m__dict__\u001b[0m\u001b[0;34m[\u001b[0m\u001b[0;34m'create_'\u001b[0m \u001b[0;34m+\u001b[0m \u001b[0mfrmt\u001b[0m\u001b[0;34m]\u001b[0m\u001b[0;34m\u001b[0m\u001b[0m\n",
      "\u001b[0;32m~/anaconda3/lib/python3.6/site-packages/pydotplus/graphviz.py\u001b[0m in \u001b[0;36mcreate\u001b[0;34m(self, prog, format)\u001b[0m\n\u001b[1;32m   1958\u001b[0m             \u001b[0;32mif\u001b[0m \u001b[0mself\u001b[0m\u001b[0;34m.\u001b[0m\u001b[0mprogs\u001b[0m \u001b[0;32mis\u001b[0m \u001b[0;32mNone\u001b[0m\u001b[0;34m:\u001b[0m\u001b[0;34m\u001b[0m\u001b[0m\n\u001b[1;32m   1959\u001b[0m                 raise InvocationException(\n\u001b[0;32m-> 1960\u001b[0;31m                     'GraphViz\\'s executables not found')\n\u001b[0m\u001b[1;32m   1961\u001b[0m \u001b[0;34m\u001b[0m\u001b[0m\n\u001b[1;32m   1962\u001b[0m         \u001b[0;32mif\u001b[0m \u001b[0mprog\u001b[0m \u001b[0;32mnot\u001b[0m \u001b[0;32min\u001b[0m \u001b[0mself\u001b[0m\u001b[0;34m.\u001b[0m\u001b[0mprogs\u001b[0m\u001b[0;34m:\u001b[0m\u001b[0;34m\u001b[0m\u001b[0m\n",
      "\u001b[0;31mInvocationException\u001b[0m: GraphViz's executables not found"
     ]
    }
   ],
   "source": [
    "# ノートブックに可視化\n",
    "from IPython.display import Image\n",
    "# graph = pydotplus.graphviz.graph_from_dot_file(dot_data.getvalue())\n",
    "Image(graph.create_png())"
   ]
  },
  {
   "cell_type": "code",
   "execution_count": null,
   "metadata": {
    "collapsed": true
   },
   "outputs": [],
   "source": []
  }
 ],
 "metadata": {
  "kernelspec": {
   "display_name": "Python 3",
   "language": "python",
   "name": "python3"
  },
  "language_info": {
   "codemirror_mode": {
    "name": "ipython",
    "version": 3
   },
   "file_extension": ".py",
   "mimetype": "text/x-python",
   "name": "python",
   "nbconvert_exporter": "python",
   "pygments_lexer": "ipython3",
   "version": "3.6.3"
  }
 },
 "nbformat": 4,
 "nbformat_minor": 2
}
