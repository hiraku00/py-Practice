{
 "cells": [
  {
   "cell_type": "markdown",
   "metadata": {},
   "source": [
    "<div style=\"font-size:20px; color:pink; margin:20px\">\n",
    "scikit-learn で回帰モデルの結果を評価する\n",
    "</div>\n",
    "<div style=\"font-size:14px; color:white; margin:20px\">\n",
    "本ページでは、Python の機械学習ライブラリの scikit-learn を用いて、<br>\n",
    "回帰モデル (Regression model) の予測精度を評価する方法を紹介します。<br>\n",
    "<br>\n",
    "回帰モデルの評価にはいくつかの指標があり、<br>\n",
    "本ページでは主要な指標として、MAE, MSE, RMSE, 決定係数の 4 つを紹介します。<br>\n",
    "</div>"
   ]
  },
  {
   "cell_type": "markdown",
   "metadata": {},
   "source": [
    "<div style=\"font-size:20px; color:pink; margin:20px\">\n",
    "平均絶対誤差 (MAE)\n",
    "</div>\n",
    "<div style=\"font-size:14px; color:white; margin:20px\">\n",
    "<p><strong>平均絶対誤差 (MAE, Mean Absolute Error)</strong> は、実際の値と予測値の絶対値を平均したものです。MAE が小さいほど誤差が少なく、予測モデルが正確に予測できていることを示し、MAE が大きいほど実際の値と予測値に誤差が大きく、予測モデルが正確に予測できていないといえます。計算式は以下となります。</p>\n",
    "<div style=\"background-color:white;\">\n",
    "<p><a href=\"http://pythondatascience.plavox.info/wp-content/uploads/2017/10/evaluation_mae.png\" rel=\"attachment wp-att-1685\"><img src=\"http://pythondatascience.plavox.info/wp-content/uploads/2017/10/evaluation_mae-300x81.png\" alt=\"evaluation_mae\" width=\"240\" class=\"alignnone size-medium wp-image-1685\" srcset=\"https://pythondatascience.plavox.info/wp-content/uploads/2017/10/evaluation_mae-300x81.png 300w, https://pythondatascience.plavox.info/wp-content/uploads/2017/10/evaluation_mae.png 469w\" sizes=\"(max-width: 300px) 100vw, 300px\" /></a></p>\n",
    "</div>\n",
    "\n",
    "<p>(\n",
    "<img src=\"http://pythondatascience.plavox.info/wp-content/uploads/2017/10/evaluation_y.png\"/>: 実際の値,<br>\n",
    "<img src=\"http://pythondatascience.plavox.info/wp-content/uploads/2017/10/evaluation_y_hat.png\" />: 予測値,<br>\n",
    "<img src=\"http://pythondatascience.plavox.info/wp-content/uploads/2017/10/evaluation_n.png\"/>: 件数)</p>\n",
    "\n",
    "<p>scikit-learn には、<code>sklearn.metrics.mean_absolute_error</code> に計算用のメソッドが実装されており、以下のように利用できます。</p>\n",
    "</div>"
   ]
  },
  {
   "cell_type": "code",
   "execution_count": 4,
   "metadata": {},
   "outputs": [
    {
     "data": {
      "text/plain": [
       "0.39999999999999991"
      ]
     },
     "execution_count": 4,
     "metadata": {},
     "output_type": "execute_result"
    }
   ],
   "source": [
    "from sklearn.metrics import mean_absolute_error\n",
    "y_true = [0, 1, 2, 3, 4, 5]\n",
    "y_pred = [0, 1.2, 2.5, 3.4, 4.6, 5.7]\n",
    "mean_absolute_error(y_true, y_pred)"
   ]
  },
  {
   "cell_type": "markdown",
   "metadata": {},
   "source": [
    "<div style=\"font-size:20px; color:pink; margin:20px\">\n",
    "平均二乗誤差 (MSE)\n",
    "</div>\n",
    "<div style=\"font-size:14px; color:white; margin:20px\">\n",
    "\n",
    "<p><strong>平均二乗誤差 (MSE, Mean Squared Error)</strong> とは、実際の値と予測値の絶対値の 2 乗を平均したものです。この為、MAE に比べて大きな誤差が存在するケースで、大きな値を示す特徴があります。MAE と同じく、値が大きいほど誤差の多いモデルと言えます。計算式は以下となります。</p>\n",
    "<div style=\"background-color:white;\">\n",
    "<p><a href=\"http://pythondatascience.plavox.info/wp-content/uploads/2017/10/evaluation_mse.png\" rel=\"attachment wp-att-1686\"><img src=\"http://pythondatascience.plavox.info/wp-content/uploads/2017/10/evaluation_mse-300x79.png\" alt=\"evaluation_mse\" width=\"240\" class=\"alignnone size-medium wp-image-1686\" srcset=\"https://pythondatascience.plavox.info/wp-content/uploads/2017/10/evaluation_mse-300x79.png 300w, https://pythondatascience.plavox.info/wp-content/uploads/2017/10/evaluation_mse.png 484w\" sizes=\"(max-width: 300px) 100vw, 300px\" /></a></p>\n",
    "</div>\n",
    "<p>(<img src=\"http://pythondatascience.plavox.info/wp-content/uploads/2017/10/evaluation_y.png\" alt=\"evaluation_y\" width=\"20\" class=\"alignnone size-full wp-image-1693\" />: 実際の値, <img src=\"http://pythondatascience.plavox.info/wp-content/uploads/2017/10/evaluation_y_hat.png\" alt=\"evaluation_y_hat\" width=\"30\" class=\"alignnone size-full wp-image-1690\" />: 予測値, <img src=\"http://pythondatascience.plavox.info/wp-content/uploads/2017/10/evaluation_n.png\" alt=\"evaluation_n\" width=\"18\" class=\"alignnone size-full wp-image-1701\" />: 件数)</p>\n",
    "<p>scikit-learn には、<code>sklearn.metrics.mean_squared_error</code> に計算用のメソッドが実装されており、以下のように利用できます。</p>\n",
    "\n",
    "</div>"
   ]
  },
  {
   "cell_type": "code",
   "execution_count": 6,
   "metadata": {},
   "outputs": [
    {
     "data": {
      "text/plain": [
       "0.375"
      ]
     },
     "execution_count": 6,
     "metadata": {},
     "output_type": "execute_result"
    }
   ],
   "source": [
    "from sklearn.metrics import mean_squared_error\n",
    "y_true = [3, -0.5, 2, 7]\n",
    "y_pred = [2.5, 0.0, 2, 8]\n",
    "mean_squared_error(y_true, y_pred)"
   ]
  },
  {
   "cell_type": "markdown",
   "metadata": {},
   "source": [
    "<div style=\"font-size:20px; color:pink; margin:20px\">\n",
    "二乗平均平方根誤差 (RMSE)\n",
    "</div>\n",
    "<div style=\"font-size:14px; color:white; margin:20px\">\n",
    "<p>MSE の平方根を <strong>二乗平均平方根誤差 (RMSE: Root Mean Squared Error)</strong> と呼びます。上記の\n",
    "MSE で、二乗したことの影響を平方根で補正したものです。RMSE は、<strong>RMSD (Root Mean Square Deviation) </strong>と呼ばれることもあります。計算式は以下となります。</p>\n",
    "\n",
    "<div style=\"background-color:white;\">\n",
    "<p><a href=\"http://pythondatascience.plavox.info/wp-content/uploads/2017/10/evaluation_rmse.png\" rel=\"attachment wp-att-1687\"><img src=\"http://pythondatascience.plavox.info/wp-content/uploads/2017/10/evaluation_rmse-300x100.png\" alt=\"evaluation_rmse\" width=\"240\" class=\"alignnone size-medium wp-image-1687\" srcset=\"https://pythondatascience.plavox.info/wp-content/uploads/2017/10/evaluation_rmse-300x100.png 300w, https://pythondatascience.plavox.info/wp-content/uploads/2017/10/evaluation_rmse.png 529w\" sizes=\"(max-width: 300px) 100vw, 300px\" /></a></p>\n",
    "</div>\n",
    "<p>(<img src=\"http://pythondatascience.plavox.info/wp-content/uploads/2017/10/evaluation_y.png\" alt=\"evaluation_y\" width=\"20\" class=\"alignnone size-full wp-image-1693\" />: 実際の値, <img src=\"http://pythondatascience.plavox.info/wp-content/uploads/2017/10/evaluation_y_hat.png\" alt=\"evaluation_y_hat\" width=\"30\" class=\"alignnone size-full wp-image-1690\" />: 予測値, <img src=\"http://pythondatascience.plavox.info/wp-content/uploads/2017/10/evaluation_n.png\" alt=\"evaluation_n\" width=\"18\" class=\"alignnone size-full wp-image-1701\" />: 件数)</p>\n",
    "<p>scikit-learn には RMSE の計算は実装されていないため、以下のように、<code>np.sqrt()</code> 関数で上記の MSE の結果を補正します。</p>\n",
    "\n",
    "<div style=\"background-color:white;\">\n",
    "</div>"
   ]
  },
  {
   "cell_type": "code",
   "execution_count": 8,
   "metadata": {},
   "outputs": [
    {
     "data": {
      "text/plain": [
       "0.61237243569579447"
      ]
     },
     "execution_count": 8,
     "metadata": {},
     "output_type": "execute_result"
    }
   ],
   "source": [
    "from sklearn.metrics import mean_squared_error\n",
    "import numpy as np\n",
    "y_true = [3, -0.5, 2, 7]\n",
    "y_pred = [2.5, 0.0, 2, 8]\n",
    "np.sqrt(mean_squared_error(y_true, y_pred))"
   ]
  },
  {
   "cell_type": "markdown",
   "metadata": {},
   "source": [
    "<div style=\"font-size:20px; color:pink; margin:20px\">\n",
    "決定係数 (R<sup>2</sup>)\n",
    "</div>\n",
    "<div style=\"font-size:14px; color:white; margin:20px\">\n",
    "<div style=\"background-color:white;\">\n",
    "<p>決定係数 (R<sup>2</sup>, R-squared, coefficient of determination) は、モデルの当てはまりの良さを示す指標で、最も当てはまりの良い場合、1.0 となります (当てはまりの悪い場合、マイナスとなることもあります)。<strong>寄与率 (きよりつ)</strong> とも呼ばれます。計算式は以下となります。</p>\n",
    "<p><a href=\"http://pythondatascience.plavox.info/wp-content/uploads/2017/10/evaluation_r2.png\" rel=\"attachment wp-att-1688\"><img src=\"http://pythondatascience.plavox.info/wp-content/uploads/2017/10/evaluation_r2-300x63.png\" alt=\"evaluation_r2\" width=\"280\" class=\"alignnone size-medium wp-image-1688\" srcset=\"https://pythondatascience.plavox.info/wp-content/uploads/2017/10/evaluation_r2-300x63.png 300w, https://pythondatascience.plavox.info/wp-content/uploads/2017/10/evaluation_r2.png 498w\" sizes=\"(max-width: 300px) 100vw, 300px\" /></a></p>\n",
    "</div>\n",
    "<p>(<img src=\"http://pythondatascience.plavox.info/wp-content/uploads/2017/10/evaluation_y.png\" alt=\"evaluation_y\" width=\"20\" class=\"alignnone size-full wp-image-1693\" />: 実際の値, <img src=\"http://pythondatascience.plavox.info/wp-content/uploads/2017/10/evaluation_y_hat.png\" alt=\"evaluation_y_hat\" width=\"30\" class=\"alignnone size-full wp-image-1690\" />: 予測値, <img src=\"http://pythondatascience.plavox.info/wp-content/uploads/2017/10/evaluation_y_bar.png\" alt=\"evaluation_y_bar\" width=\"26\" class=\"alignnone size-full wp-image-1689\" />: 実際の値の平均値, <img src=\"http://pythondatascience.plavox.info/wp-content/uploads/2017/10/evaluation_n.png\" alt=\"evaluation_n\" width=\"18\" class=\"alignnone size-full wp-image-1701\" />: 件数)</p>\n",
    "<p>scikit-learn には、<code>sklearn.metrics.r2_score</code> に計算用のメソッドが実装されており、以下のように利\n",
    "用できます。</p>\n",
    "\n",
    "</div>"
   ]
  },
  {
   "cell_type": "code",
   "execution_count": 9,
   "metadata": {},
   "outputs": [
    {
     "data": {
      "text/plain": [
       "0.94860813704496794"
      ]
     },
     "execution_count": 9,
     "metadata": {},
     "output_type": "execute_result"
    }
   ],
   "source": [
    "from sklearn.metrics import r2_score\n",
    "y_true = [3, -0.5, 2, 7]\n",
    "y_pred = [2.5, 0.0, 2, 8]\n",
    "r2_score(y_true, y_pred)"
   ]
  }
 ],
 "metadata": {
  "kernelspec": {
   "display_name": "Python 3",
   "language": "python",
   "name": "python3"
  },
  "language_info": {
   "codemirror_mode": {
    "name": "ipython",
    "version": 3
   },
   "file_extension": ".py",
   "mimetype": "text/x-python",
   "name": "python",
   "nbconvert_exporter": "python",
   "pygments_lexer": "ipython3",
   "version": "3.6.3"
  }
 },
 "nbformat": 4,
 "nbformat_minor": 2
}
