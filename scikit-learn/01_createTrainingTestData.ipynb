{
 "cells": [
  {
   "cell_type": "markdown",
   "metadata": {},
   "source": [
    "<div style=\"font-size:20px; color:pink; margin:20px\">\n",
    "トレーニングデータ・テストデータとは\n",
    "</div>\n",
    "<div style=\"font-size:14px; color:white; margin:20px\">\n",
    "教師あり機械学習（回帰分析、決定木分析、ランダムフォレスト法、ナイーブベイズ法、ニューラルネットワークなど）による<br>\n",
    "モデルを作成するには、準備したデータセットを<br>\n",
    "トレーニングデータ（訓練用データ、学習用データとも呼ばれます）と<br>\n",
    "テストデータ（検証用データ、評価用データ、検証用データとも呼ばれます）<br>\n",
    "の2つに分割して予測モデルの作成、評価を行なうことが一般的です。<br>\n",
    "このように一定の割合でトレーニングデータとテストデータに分割することをホールドアウト (hold-out) と呼びます。<br>\n",
    "<br>\n",
    "以下は、クレジットカードの解約予測の分析テーマを例に挙げて、そのイメージを説明します。<br>\n",
    "</div>"
   ]
  },
  {
   "cell_type": "markdown",
   "metadata": {},
   "source": [
    "<div style=\"font-size:20px; color:pink; margin:20px\">\n",
    "\n",
    "</div>\n",
    "<div style=\"font-size:14px; color:white; margin:20px\">\n",
    "<h4>トレーニングデータとテストデータの分割</h4>\n",
    "<p>データセット全体 (20 レコード) を本例では、80 : 20 の割合でトレーニングデータ (16 件) とテストデータ (4件) に分割します。</p>\n",
    "<p><a href=\"http://pythondatascience.plavox.info/wp-content/uploads/2017/10/sampling01.png\" rel=\"attachment wp-att-1567\"><img src=\"http://pythondatascience.plavox.info/wp-content/uploads/2017/10/sampling01-1024x618.png\" alt=\"sampling01\" width=\"640\" class=\"alignnone size-large wp-image-1567\" srcset=\"https://pythondatascience.plavox.info/wp-content/uploads/2017/10/sampling01-300x181.png 300w, https://pythondatascience.plavox.info/wp-content/uploads/2017/10/sampling01-768x463.png 768w, https://pythondatascience.plavox.info/wp-content/uploads/2017/10/sampling01-1024x618.png 1024w\" sizes=\"(max-width: 1024px) 100vw, 1024px\" /></a></p>\n",
    "トレーニングデータとテストデータはどのような割合 (何対何) で分割すべきといった決まりはありませんが、<br>\n",
    "トレーニングデータ : テストデータを 80 % : 20 % や、75 % : 25 % 、70 % : 30 % の比率で分割することが一般的です。<br>\n",
    "</div>"
   ]
  },
  {
   "cell_type": "markdown",
   "metadata": {},
   "source": [
    "<div style=\"font-size:20px; color:pink; margin:20px\">\n",
    "\n",
    "</div>\n",
    "<div style=\"font-size:14px; color:white; margin:20px\">\n",
    "トレーニングデータを用いた機械学習モデルの作成\n",
    "分割したデータのうち、トレーニングデータのみを用いて、説明変数 (x) と目的変数 (y) の関係性を学習し、説明変数 (x) が与えられたときに、目的変数 (y) を返す機械学習モデルを作成します。\n",
    "\n",
    "<p><a href=\"http://pythondatascience.plavox.info/wp-content/uploads/2017/10/sampling02.png\" rel=\"attachment wp-att-1568\"><img src=\"http://pythondatascience.plavox.info/wp-content/uploads/2017/10/sampling02.png\" alt=\"sampling02\" width=\"360\" class=\"alignnone size-large wp-image-1568\" srcset=\"https://pythondatascience.plavox.info/wp-content/uploads/2017/10/sampling02-251x300.png 251w, https://pythondatascience.plavox.info/wp-content/uploads/2017/10/sampling02-768x917.png 768w, https://pythondatascience.plavox.info/wp-content/uploads/2017/10/sampling02.png 791w\" sizes=\"(max-width: 791px) 100vw, 791px\" /></a></p>\n",
    "</div>"
   ]
  },
  {
   "cell_type": "markdown",
   "metadata": {},
   "source": [
    "<div style=\"font-size:20px; color:pink; margin:20px\">\n",
    "\n",
    "</div>\n",
    "<div style=\"font-size:14px; color:white; margin:20px\">\n",
    "\n",
    "<h4>テストデータを用いた予測の実行</h4>\n",
    "<p>続いて、作成した機械学習モデルとテストデータの説明変数 (x) のみを用いて、予測結果を算出します。</p>\n",
    "<p><a href=\"http://pythondatascience.plavox.info/wp-content/uploads/2017/10/sampling03.png\" rel=\"attachment wp-att-1565\"><img src=\"http://pythondatascience.plavox.info/wp-content/uploads/2017/10/sampling03-1024x472.png\" alt=\"sampling03\" width=\"480\" class=\"alignnone size-large wp-image-1565\" srcset=\"https://pythondatascience.plavox.info/wp-content/uploads/2017/10/sampling03-300x138.png 300w, https://pythondatascience.plavox.info/wp-content/uploads/2017/10/sampling03-768x354.png 768w, https://pythondatascience.plavox.info/wp-content/uploads/2017/10/sampling03-1024x472.png 1024w, https://pythondatascience.plavox.info/wp-content/uploads/2017/10/sampling03.png 1032w\" sizes=\"(max-width: 1024px) 100vw, 1024px\" /></a></p>\n",
    "<h4>テストデータを用いた評価</h4>\n",
    "<p>前段で求めた予測結果と、実際の解約有無を比較することで、どれだけ正確に予測できるかを確認することで、機械学習モデルの予測性能を測ります。</p>\n",
    "<p><a href=\"http://pythondatascience.plavox.info/wp-content/uploads/2017/10/sampling04.png\" rel=\"attachment wp-att-1569\"><img src=\"http://pythondatascience.plavox.info/wp-content/uploads/2017/10/sampling04.png\" alt=\"sampling04\" width=\"480\"  class=\"alignnone size-large wp-image-1569\" srcset=\"https://pythondatascience.plavox.info/wp-content/uploads/2017/10/sampling04-300x94.png 300w, https://pythondatascience.plavox.info/wp-content/uploads/2017/10/sampling04-768x241.png 768w, https://pythondatascience.plavox.info/wp-content/uploads/2017/10/sampling04.png 975w\" sizes=\"(max-width: 975px) 100vw, 975px\" /></a></p>\n",
    "\n",
    "</div>"
   ]
  },
  {
   "cell_type": "markdown",
   "metadata": {},
   "source": [
    "<div style=\"font-size:20px; color:pink; margin:20px\">\n",
    "\n",
    "</div>\n",
    "<div style=\"font-size:14px; color:white; margin:20px\">\n",
    "サンプリングを行なうときに注意すべきこと\n",
    "データセット全体からレーニングデータとテストデータを分割する際に、<br>\n",
    "データの特性に偏りのあるトレーニングデータやテストデータを使って機械学習モデルを作成すると、<br>\n",
    "精度の悪いモデルができてしまいます。<br>\n",
    "それを防ぐために、ランダムに並び替えたデータからデータセットを抽出します。<br>\n",
    "そのような作業をサンプリング、特に、ランダムに抽出することをランダムサンプリングと呼びます。<br>\n",
    "</div>"
   ]
  },
  {
   "cell_type": "markdown",
   "metadata": {},
   "source": [
    "<div style=\"font-size:20px; color:pink; margin:20px\">\n",
    "train_test_split: トレーニングデータとテストデータを分割\n",
    "</div>\n",
    "<div style=\"font-size:14px; color:white; margin:20px\">\n",
    "scikit-learn には、トレーニングデータとテストデータの分割を行なうメソッドとして<br>\n",
    "sklearn.model_selection.train_test_split が用意されています。<br>\n",
    "このメソッドは、与えられたデータフレームから、指定された条件に基づいてトレーニングデータとテストデータを分割します。<br>\n",
    "<br>\n",
    "train_test_split の使い方<br>\n",
    "<p></p><!-- Crayon Syntax Highlighter v_2.7.2_beta -->\n",
    "\n",
    "\t\t<div id=\"crayon-5a3f77c4515ed693113073\" class=\"crayon-syntax crayon-theme-github crayon-font-monaco crayon-os-mac print-yes notranslate\" data-settings=\" no-popup minimize scroll-mouseover\" style=\" margin-top: 12px; margin-bottom: 12px; font-size: 13px !important; line-height: 16px !important;\">\n",
    "\t\t\n",
    "\t\t\t<div class=\"crayon-toolbar\" data-settings=\" show\" style=\"font-size: 13px !important;height: 19.5px !important; line-height: 19.5px !important;\"><span class=\"crayon-title\"></span>\n",
    "\t\t\t<div class=\"crayon-tools\" style=\"font-size: 13px !important;height: 19.5px !important; line-height: 19.5px !important;\"><div class=\"crayon-button crayon-wrap-button\" title=\"Toggle Line Wrap\"><div class=\"crayon-button-icon\"></div></div><span class=\"crayon-language\">Python</span></div></div>\n",
    "\t\t\t<div class=\"crayon-info\" style=\"min-height: 18.2px !important; line-height: 18.2px !important;\"></div>\n",
    "\t\t\t<div class=\"crayon-plain-wrap\"></div>\n",
    "\t\t\t<div class=\"crayon-main\" style=\"\">\n",
    "\t\t\t\t<table class=\"crayon-table\">\n",
    "\t\t\t\t\t<tr class=\"crayon-row\">\n",
    "\t\t\t\t<td class=\"crayon-nums \" data-settings=\"show\">\n",
    "\t\t\t\t\t<div class=\"crayon-nums-content\" style=\"font-size: 13px !important; line-height: 16px !important;\"><div class=\"crayon-num\" data-line=\"crayon-5a3f77c4515ed693113073-1\">1</div></div>\n",
    "\t\t\t\t</td>\n",
    "\t\t\t\t\t\t<td class=\"crayon-code\"><div class=\"crayon-pre\" style=\"font-size: 13px !important; line-height: 16px !important; -moz-tab-size:4; -o-tab-size:4; -webkit-tab-size:4; tab-size:4;\"><div class=\"crayon-line\" id=\"crayon-5a3f77c4515ed693113073-1\"><span class=\"crayon-v\">sklearn</span><span class=\"crayon-sy\">.</span><span class=\"crayon-v\">model_selection</span><span class=\"crayon-sy\">.</span><span class=\"crayon-e\">train_test_split</span><span class=\"crayon-sy\">(</span><span class=\"crayon-o\">*</span><span class=\"crayon-v\">arrays</span><span class=\"crayon-sy\">,</span><span class=\"crayon-h\"> </span><span class=\"crayon-o\">*</span><span class=\"crayon-o\">*</span><span class=\"crayon-v\">options</span><span class=\"crayon-sy\">)</span></div></div></td>\n",
    "\t\t\t\t\t</tr>\n",
    "\t\t\t\t</table>\n",
    "\t\t\t</div>\n",
    "\t\t</div>\n",
    "<!-- [Format Time: 0.0033 seconds] -->\n",
    "<p></p>\n",
    "\n",
    "<p></p><!-- Crayon Syntax Highlighter v_2.7.2_beta -->\n",
    "\n",
    "\t\t<div id=\"crayon-5a3f77c4515ed693113073\" class=\"crayon-syntax crayon-theme-github crayon-font-monaco crayon-os-mac print-yes notranslate\" data-settings=\" no-popup minimize scroll-mouseover\" style=\" margin-top: 12px; margin-bottom: 12px; font-size: 13px !important; line-height: 16px !important;\">\n",
    "\t\t\n",
    "\t\t\t<div class=\"crayon-toolbar\" data-settings=\" show\" style=\"font-size: 13px !important;height: 19.5px !important; line-height: 19.5px !important;\"><span class=\"crayon-title\"></span>\n",
    "\t\t\t<div class=\"crayon-tools\" style=\"font-size: 13px !important;height: 19.5px !important; line-height: 19.5px !important;\"><div class=\"crayon-button crayon-wrap-button\" title=\"Toggle Line Wrap\"><div class=\"crayon-button-icon\"></div></div><span class=\"crayon-language\">Python</span></div></div>\n",
    "\t\t\t<div class=\"crayon-info\" style=\"min-height: 18.2px !important; line-height: 18.2px !important;\"></div>\n",
    "\t\t\t<div class=\"crayon-plain-wrap\"></div>\n",
    "\t\t\t<div class=\"crayon-main\" style=\"\">\n",
    "\t\t\t\t<table class=\"crayon-table\">\n",
    "\t\t\t\t\t<tr class=\"crayon-row\">\n",
    "\t\t\t\t<td class=\"crayon-nums \" data-settings=\"show\">\n",
    "\t\t\t\t\t<div class=\"crayon-nums-content\" style=\"font-size: 13px !important; line-height: 16px !important;\"><div class=\"crayon-num\" data-line=\"crayon-5a3f77c4515ed693113073-1\">1</div></div>\n",
    "\t\t\t\t</td>\n",
    "\t\t\t\t\t\t<td class=\"crayon-code\"><div class=\"crayon-pre\" style=\"font-size: 13px !important; line-height: 16px !important; -moz-tab-size:4; -o-tab-size:4; -webkit-tab-size:4; tab-size:4;\"><div class=\"crayon-line\" id=\"crayon-5a3f77c4515ed693113073-1\"><span class=\"crayon-v\">sklearn</span><span class=\"crayon-sy\">.</span><span class=\"crayon-v\">model_selection</span><span class=\"crayon-sy\">.</span><span class=\"crayon-e\">train_test_split</span><span class=\"crayon-sy\">(</span><span class=\"crayon-o\">*</span><span class=\"crayon-v\">arrays</span><span class=\"crayon-sy\">,</span><span class=\"crayon-h\"> </span><span class=\"crayon-o\">*</span><span class=\"crayon-o\">*</span><span class=\"crayon-v\">options</span><span class=\"crayon-sy\">)</span></div></div></td>\n",
    "\t\t\t\t\t</tr>\n",
    "\t\t\t\t</table>\n",
    "\t\t\t</div>\n",
    "\t\t</div>\n",
    "<!-- [Format Time: 0.0033 seconds] -->\n",
    "<p></p>\n",
    "<p><b>train_test_split の引数</b></p>\n",
    "<table>\n",
    "<tr>\n",
    "<th>arrays</th>\n",
    "<td>分割対象の同じ長さを持った複数のリスト、Numpy の array, matrix, Pandasのデータフレームを指定。</td>\n",
    "</th>\n",
    "<tr>\n",
    "<th>test_size</th>\n",
    "<td>小数もしくは整数を指定。小数で指定した場合、テストデータの割合を 0.0 〜 1.0 の間で指定します。整数を指定した場合は、テストデータに必ず含めるレコード件数を整数で指定します。指定しなかった場合や None を設定した場合は、train_size のサイズを補うように設定します。train_size を設定していない場合、デフォルト値として 0.25 を用います。</td>\n",
    "</th>\n",
    "<tr>\n",
    "<th>train_size</th>\n",
    "<td>小数もしくは整数を指定。小数で指定した場合、トレーニングデータの割合を 0.0 〜 1.0 の間で指定します。整数を指定した場合は、トレーニングデータに必ず含めるレコード件数を整数で指定します。指定しなかった場合や None を設定した場合は、データセット全体から test_size を引いた分のサイズとします。</td>\n",
    "</th>\n",
    "<tr>\n",
    "<th>random_state</th>\n",
    "<td>乱数生成のシードとなる整数または、RandomState インスタンスを設定します。指定しなかった場合は、Numpy のnp.random を用いて乱数をセットします。</td>\n",
    "</th>\n",
    "<tr>\n",
    "<th>shuffle</th>\n",
    "<td>データを分割する前にランダムに並び替えを行なうかどうか。True または False で指定します。False に設定した場合、stratify を None に設定しなければいけません。(デフォルト値: True)</td>\n",
    "</th>\n",
    "<tr>\n",
    "<th>stratify</th>\n",
    "<td>Stratified Sampling (層化サンプリング) を行なう場合に、クラスを示す行列を設定します。 (デフォルト値: None)</td>\n",
    "</th>\n",
    "</table>\n",
    "</div>"
   ]
  },
  {
   "cell_type": "markdown",
   "metadata": {},
   "source": [
    "<div style=\"font-size:20px; color:pink; margin:20px\">\n",
    "\n",
    "</div>\n",
    "<div style=\"font-size:14px; color:white; margin:20px\">\n",
    "train_test_split の使用例<br>\n",
    "今回使用するデータフレーム (4 カラム、12 レコード) を作成します<br>\n",
    "</div>"
   ]
  },
  {
   "cell_type": "code",
   "execution_count": 1,
   "metadata": {},
   "outputs": [
    {
     "data": {
      "text/html": [
       "<div>\n",
       "<style>\n",
       "    .dataframe thead tr:only-child th {\n",
       "        text-align: right;\n",
       "    }\n",
       "\n",
       "    .dataframe thead th {\n",
       "        text-align: left;\n",
       "    }\n",
       "\n",
       "    .dataframe tbody tr th {\n",
       "        vertical-align: top;\n",
       "    }\n",
       "</style>\n",
       "<table border=\"1\" class=\"dataframe\">\n",
       "  <thead>\n",
       "    <tr style=\"text-align: right;\">\n",
       "      <th></th>\n",
       "      <th>age</th>\n",
       "      <th>attendance</th>\n",
       "      <th>department</th>\n",
       "      <th>name</th>\n",
       "    </tr>\n",
       "  </thead>\n",
       "  <tbody>\n",
       "    <tr>\n",
       "      <th>0</th>\n",
       "      <td>30</td>\n",
       "      <td>1</td>\n",
       "      <td>HR</td>\n",
       "      <td>Suzuki</td>\n",
       "    </tr>\n",
       "    <tr>\n",
       "      <th>1</th>\n",
       "      <td>40</td>\n",
       "      <td>1</td>\n",
       "      <td>Legal</td>\n",
       "      <td>Tanaka</td>\n",
       "    </tr>\n",
       "    <tr>\n",
       "      <th>2</th>\n",
       "      <td>55</td>\n",
       "      <td>1</td>\n",
       "      <td>IT</td>\n",
       "      <td>Yamada</td>\n",
       "    </tr>\n",
       "    <tr>\n",
       "      <th>3</th>\n",
       "      <td>29</td>\n",
       "      <td>0</td>\n",
       "      <td>HR</td>\n",
       "      <td>Watanabe</td>\n",
       "    </tr>\n",
       "    <tr>\n",
       "      <th>4</th>\n",
       "      <td>41</td>\n",
       "      <td>1</td>\n",
       "      <td>HR</td>\n",
       "      <td>Yamamoto</td>\n",
       "    </tr>\n",
       "    <tr>\n",
       "      <th>5</th>\n",
       "      <td>28</td>\n",
       "      <td>1</td>\n",
       "      <td>IT</td>\n",
       "      <td>Okada</td>\n",
       "    </tr>\n",
       "    <tr>\n",
       "      <th>6</th>\n",
       "      <td>42</td>\n",
       "      <td>1</td>\n",
       "      <td>Legal</td>\n",
       "      <td>Ueda</td>\n",
       "    </tr>\n",
       "    <tr>\n",
       "      <th>7</th>\n",
       "      <td>24</td>\n",
       "      <td>0</td>\n",
       "      <td>Legal</td>\n",
       "      <td>Inoue</td>\n",
       "    </tr>\n",
       "    <tr>\n",
       "      <th>8</th>\n",
       "      <td>33</td>\n",
       "      <td>0</td>\n",
       "      <td>IT</td>\n",
       "      <td>Hayashi</td>\n",
       "    </tr>\n",
       "    <tr>\n",
       "      <th>9</th>\n",
       "      <td>39</td>\n",
       "      <td>1</td>\n",
       "      <td>HR</td>\n",
       "      <td>Sato</td>\n",
       "    </tr>\n",
       "    <tr>\n",
       "      <th>10</th>\n",
       "      <td>49</td>\n",
       "      <td>1</td>\n",
       "      <td>Legal</td>\n",
       "      <td>Hirayama</td>\n",
       "    </tr>\n",
       "    <tr>\n",
       "      <th>11</th>\n",
       "      <td>53</td>\n",
       "      <td>1</td>\n",
       "      <td>Legal</td>\n",
       "      <td>Shimada</td>\n",
       "    </tr>\n",
       "  </tbody>\n",
       "</table>\n",
       "</div>"
      ],
      "text/plain": [
       "    age  attendance department      name\n",
       "0    30           1         HR    Suzuki\n",
       "1    40           1      Legal    Tanaka\n",
       "2    55           1         IT    Yamada\n",
       "3    29           0         HR  Watanabe\n",
       "4    41           1         HR  Yamamoto\n",
       "5    28           1         IT     Okada\n",
       "6    42           1      Legal      Ueda\n",
       "7    24           0      Legal     Inoue\n",
       "8    33           0         IT   Hayashi\n",
       "9    39           1         HR      Sato\n",
       "10   49           1      Legal  Hirayama\n",
       "11   53           1      Legal   Shimada"
      ]
     },
     "execution_count": 1,
     "metadata": {},
     "output_type": "execute_result"
    }
   ],
   "source": [
    "import pandas as pd\n",
    "from sklearn.model_selection import train_test_split\n",
    "\n",
    "namelist = pd.DataFrame({\n",
    "    \"name\" : [\"Suzuki\", \"Tanaka\", \"Yamada\", \"Watanabe\", \"Yamamoto\",\"Okada\",\n",
    "              \"Ueda\", \"Inoue\", \"Hayashi\", \"Sato\", \"Hirayama\", \"Shimada\"],\n",
    "    \"age\" : [30, 40, 55, 29, 41, 28, 42, 24, 33, 39, 49, 53],\n",
    "    \"department\" : [\"HR\", \"Legal\", \"IT\", \"HR\", \"HR\", \"IT\",\n",
    "                    \"Legal\", \"Legal\", \"IT\", \"HR\", \"Legal\", \"Legal\"],\n",
    "    \"attendance\" : [1, 1, 1, 0, 1, 1, 1, 0, 0, 1, 1, 1]\n",
    "})\n",
    "namelist"
   ]
  },
  {
   "cell_type": "code",
   "execution_count": 4,
   "metadata": {},
   "outputs": [
    {
     "name": "stdout",
     "output_type": "stream",
     "text": [
      "    age  attendance department      name\n",
      "0    30           1         HR    Suzuki\n",
      "2    55           1         IT    Yamada\n",
      "10   49           1      Legal  Hirayama\n",
      "1    40           1      Legal    Tanaka\n",
      "11   53           1      Legal   Shimada\n",
      "6    42           1      Legal      Ueda\n",
      "4    41           1         HR  Yamamoto\n",
      "8    33           0         IT   Hayashi\n",
      "   age  attendance department      name\n",
      "5   28           1         IT     Okada\n",
      "9   39           1         HR      Sato\n",
      "7   24           0      Legal     Inoue\n",
      "3   29           0         HR  Watanabe\n"
     ]
    }
   ],
   "source": [
    "# テストデータを 30% (test_size=0.3) としてトレーニングデータ、テストデータに分割します。\n",
    "namelist_train, namelist_test = train_test_split(namelist, test_size=0.3)\n",
    "print(namelist_train)\n",
    "print(namelist_test)"
   ]
  },
  {
   "cell_type": "code",
   "execution_count": 5,
   "metadata": {},
   "outputs": [
    {
     "name": "stdout",
     "output_type": "stream",
     "text": [
      "    age  attendance department      name\n",
      "1    40           1      Legal    Tanaka\n",
      "4    41           1         HR  Yamamoto\n",
      "5    28           1         IT     Okada\n",
      "6    42           1      Legal      Ueda\n",
      "2    55           1         IT    Yamada\n",
      "0    30           1         HR    Suzuki\n",
      "11   53           1      Legal   Shimada\n",
      "    age  attendance department      name\n",
      "9    39           1         HR      Sato\n",
      "3    29           0         HR  Watanabe\n",
      "10   49           1      Legal  Hirayama\n",
      "7    24           0      Legal     Inoue\n",
      "8    33           0         IT   Hayashi\n"
     ]
    }
   ],
   "source": [
    "# テストデータを具体的な数値で、5 件 (test_size=5) としてトレーニングデータ、テストデータに分割します。\n",
    "namelist_train, namelist_test = train_test_split(namelist, test_size=5)\n",
    "print(namelist_train)\n",
    "print(namelist_test)"
   ]
  },
  {
   "cell_type": "code",
   "execution_count": 6,
   "metadata": {},
   "outputs": [
    {
     "name": "stdout",
     "output_type": "stream",
     "text": [
      "    age  attendance department      name\n",
      "1    40           1      Legal    Tanaka\n",
      "3    29           0         HR  Watanabe\n",
      "2    55           1         IT    Yamada\n",
      "5    28           1         IT     Okada\n",
      "0    30           1         HR    Suzuki\n",
      "10   49           1      Legal  Hirayama\n",
      "    age  attendance department      name\n",
      "9    39           1         HR      Sato\n",
      "7    24           0      Legal     Inoue\n",
      "11   53           1      Legal   Shimada\n",
      "8    33           0         IT   Hayashi\n",
      "4    41           1         HR  Yamamoto\n",
      "6    42           1      Legal      Ueda\n"
     ]
    }
   ],
   "source": [
    "# トレーニングデータを 50% (training_size=0.5) としてトレーニングデータ、テストデータに分割します。\n",
    "namelist_train, namelist_test = train_test_split(namelist, test_size=0.5)\n",
    "print(namelist_train)\n",
    "print(namelist_test)"
   ]
  },
  {
   "cell_type": "code",
   "execution_count": 7,
   "metadata": {},
   "outputs": [
    {
     "name": "stdout",
     "output_type": "stream",
     "text": [
      "   age  attendance department      name\n",
      "0   30           1         HR    Suzuki\n",
      "1   40           1      Legal    Tanaka\n",
      "2   55           1         IT    Yamada\n",
      "3   29           0         HR  Watanabe\n",
      "4   41           1         HR  Yamamoto\n",
      "5   28           1         IT     Okada\n",
      "6   42           1      Legal      Ueda\n",
      "7   24           0      Legal     Inoue\n",
      "8   33           0         IT   Hayashi\n",
      "    age  attendance department      name\n",
      "9    39           1         HR      Sato\n",
      "10   49           1      Legal  Hirayama\n",
      "11   53           1      Legal   Shimada\n"
     ]
    }
   ],
   "source": [
    "# データの並び替え（シャッフル）を行わないで、分割のみを実施します。\n",
    "namelist_train, namelist_test = train_test_split(namelist, shuffle=False)\n",
    "print(namelist_train)\n",
    "print(namelist_test)"
   ]
  },
  {
   "cell_type": "code",
   "execution_count": 10,
   "metadata": {},
   "outputs": [
    {
     "name": "stdout",
     "output_type": "stream",
     "text": [
      "一回目\n",
      "    age  attendance department      name\n",
      "8    33           0         IT   Hayashi\n",
      "5    28           1         IT     Okada\n",
      "2    55           1         IT    Yamada\n",
      "1    40           1      Legal    Tanaka\n",
      "11   53           1      Legal   Shimada\n",
      "4    41           1         HR  Yamamoto\n",
      "7    24           0      Legal     Inoue\n",
      "3    29           0         HR  Watanabe\n",
      "6    42           1      Legal      Ueda\n",
      "    age  attendance department      name\n",
      "10   49           1      Legal  Hirayama\n",
      "9    39           1         HR      Sato\n",
      "0    30           1         HR    Suzuki\n",
      "二回目\n",
      "    age  attendance department      name\n",
      "8    33           0         IT   Hayashi\n",
      "5    28           1         IT     Okada\n",
      "2    55           1         IT    Yamada\n",
      "1    40           1      Legal    Tanaka\n",
      "11   53           1      Legal   Shimada\n",
      "4    41           1         HR  Yamamoto\n",
      "7    24           0      Legal     Inoue\n",
      "3    29           0         HR  Watanabe\n",
      "6    42           1      Legal      Ueda\n",
      "    age  attendance department      name\n",
      "10   49           1      Legal  Hirayama\n",
      "9    39           1         HR      Sato\n",
      "0    30           1         HR    Suzuki\n"
     ]
    }
   ],
   "source": [
    "# 乱数のシードを42に固定します。1回目と2回目で全く同じサンプリングがなされていることが見て取れます。\n",
    "namelist_train, namelist_test = train_test_split(namelist, random_state=42)\n",
    "print(\"一回目\")\n",
    "print(namelist_train)\n",
    "print(namelist_test)\n",
    "\n",
    "namelist_train, namelist_test = train_test_split(namelist, random_state=42)\n",
    "print(\"二回目\")\n",
    "print(namelist_train)\n",
    "print(namelist_test)"
   ]
  },
  {
   "cell_type": "markdown",
   "metadata": {},
   "source": [
    "<div style=\"font-size:20px; color:pink; margin:20px\">\n",
    "\n",
    "</div>\n",
    "<div style=\"font-size:14px; color:white; margin:20px\">\n",
    "“department” のクラスによる層化サンプリングを行います。<br>\n",
    "<br>\n",
    "層化サンプリングとは、サンプリングしたデータが偏らないよう、<br>\n",
    "指定した変数の出現頻度が一定になるように調整した上で、サンプリングを行なうものです。<br>\n",
    "以下の例では、”department” (=部門) を stratify=namelist['department'] として指定しているので、<br>\n",
    "テストデータには、各部門 (IT (情報システム), HR (人事), Legal (法務)) が、全体の分布と同じになるよう、<br>\n",
    "各 1 件ずつ抽出されています。\n",
    "</div>"
   ]
  },
  {
   "cell_type": "code",
   "execution_count": 11,
   "metadata": {},
   "outputs": [
    {
     "name": "stdout",
     "output_type": "stream",
     "text": [
      "    age  attendance department      name\n",
      "5    28           1         IT     Okada\n",
      "1    40           1      Legal    Tanaka\n",
      "0    30           1         HR    Suzuki\n",
      "11   53           1      Legal   Shimada\n",
      "6    42           1      Legal      Ueda\n",
      "9    39           1         HR      Sato\n",
      "8    33           0         IT   Hayashi\n",
      "4    41           1         HR  Yamamoto\n",
      "7    24           0      Legal     Inoue\n",
      "    age  attendance department      name\n",
      "10   49           1      Legal  Hirayama\n",
      "2    55           1         IT    Yamada\n",
      "3    29           0         HR  Watanabe\n"
     ]
    }
   ],
   "source": [
    "namelist_train, namelist_test = train_test_split(namelist, stratify=namelist['department'])\n",
    "print(namelist_train)\n",
    "print(namelist_test)"
   ]
  },
  {
   "cell_type": "markdown",
   "metadata": {},
   "source": [
    "<div style=\"font-size:20px; color:pink; margin:20px\">\n",
    "\n",
    "</div>\n",
    "<div style=\"font-size:14px; color:white; margin:20px\">\n",
    "上記で説明した層化サンプリングを“attendance”(総会への出席状況)の列に基づいて実施した例は以下になります。<br>\n",
    "テストデータには、1 が 2 件、0 が 1 件と、全体の分布とほぼ同じように抽出されていることがわかります\n",
    "</div>"
   ]
  },
  {
   "cell_type": "code",
   "execution_count": 12,
   "metadata": {},
   "outputs": [
    {
     "name": "stdout",
     "output_type": "stream",
     "text": [
      "    age  attendance department      name\n",
      "0    30           1         HR    Suzuki\n",
      "7    24           0      Legal     Inoue\n",
      "2    55           1         IT    Yamada\n",
      "9    39           1         HR      Sato\n",
      "4    41           1         HR  Yamamoto\n",
      "1    40           1      Legal    Tanaka\n",
      "10   49           1      Legal  Hirayama\n",
      "5    28           1         IT     Okada\n",
      "3    29           0         HR  Watanabe\n",
      "    age  attendance department     name\n",
      "6    42           1      Legal     Ueda\n",
      "8    33           0         IT  Hayashi\n",
      "11   53           1      Legal  Shimada\n"
     ]
    }
   ],
   "source": [
    "namelist_train, namelist_test = train_test_split(namelist, stratify=namelist['attendance'])\n",
    "print(namelist_train)\n",
    "print(namelist_test)"
   ]
  },
  {
   "cell_type": "markdown",
   "metadata": {},
   "source": [
    "<div style=\"font-size:20px; color:pink; margin:20px\">\n",
    "\n",
    "</div>\n",
    "<div style=\"font-size:14px; color:white; margin:20px\">\n",
    "例えば、説明変数x(attendance 以外)と、目的変数y(attendance)を分割し、<br>\n",
    "train_test_split に 2 つ以上の引数を与えることもできます。<br>\n",
    "以下の例では、データフレームとarray を渡し、データフレーム、array を 2 つずつ返します。\n",
    "</div>"
   ]
  },
  {
   "cell_type": "code",
   "execution_count": 13,
   "metadata": {},
   "outputs": [
    {
     "name": "stdout",
     "output_type": "stream",
     "text": [
      "    age department      name\n",
      "0    30         HR    Suzuki\n",
      "1    40      Legal    Tanaka\n",
      "2    55         IT    Yamada\n",
      "3    29         HR  Watanabe\n",
      "4    41         HR  Yamamoto\n",
      "5    28         IT     Okada\n",
      "6    42      Legal      Ueda\n",
      "7    24      Legal     Inoue\n",
      "8    33         IT   Hayashi\n",
      "9    39         HR      Sato\n",
      "10   49      Legal  Hirayama\n",
      "11   53      Legal   Shimada\n",
      "0     1\n",
      "1     1\n",
      "2     1\n",
      "3     0\n",
      "4     1\n",
      "5     1\n",
      "6     1\n",
      "7     0\n",
      "8     0\n",
      "9     1\n",
      "10    1\n",
      "11    1\n",
      "Name: attendance, dtype: int64\n"
     ]
    }
   ],
   "source": [
    "# データセットを説明変数と目的変数に分割\n",
    "namelist2_x = namelist.drop(\"attendance\", axis=1)\n",
    "namelist2_y = namelist['attendance']\n",
    "\n",
    "# 説明変数\n",
    "print(namelist2_x)\n",
    "# 目的変数\n",
    "print(namelist2_y)"
   ]
  },
  {
   "cell_type": "markdown",
   "metadata": {},
   "source": [
    "<div style=\"font-size:20px; color:pink; margin:20px\">\n",
    "\n",
    "</div>\n",
    "<div style=\"font-size:14px; color:white; margin:20px\">\n",
    "サンプリングを実施し、トレーニングデータ、テストデータに分割します。\n",
    "</div>"
   ]
  },
  {
   "cell_type": "code",
   "execution_count": 14,
   "metadata": {},
   "outputs": [
    {
     "name": "stdout",
     "output_type": "stream",
     "text": [
      "    age department      name\n",
      "2    55         IT    Yamada\n",
      "6    42      Legal      Ueda\n",
      "5    28         IT     Okada\n",
      "8    33         IT   Hayashi\n",
      "4    41         HR  Yamamoto\n",
      "3    29         HR  Watanabe\n",
      "10   49      Legal  Hirayama\n",
      "9    39         HR      Sato\n",
      "    age department     name\n",
      "1    40      Legal   Tanaka\n",
      "0    30         HR   Suzuki\n",
      "7    24      Legal    Inoue\n",
      "11   53      Legal  Shimada\n",
      "2     1\n",
      "6     1\n",
      "5     1\n",
      "8     0\n",
      "4     1\n",
      "3     0\n",
      "10    1\n",
      "9     1\n",
      "Name: attendance, dtype: int64\n",
      "1     1\n",
      "0     1\n",
      "7     0\n",
      "11    1\n",
      "Name: attendance, dtype: int64\n"
     ]
    }
   ],
   "source": [
    "x_train, x_test, y_train, y_test = train_test_split(namelist2_x, namelist2_y, test_size=0.3)\n",
    "\n",
    "# 説明変数 (トレーニングデータ)\n",
    "print(x_train)\n",
    "# 説明変数 (テストデータ)\n",
    "print(x_test)\n",
    "# 目的変数 (トレーニングデータ)\n",
    "print(y_train)\n",
    "# 目的変数 (テストデータ)\n",
    "print(y_test)"
   ]
  }
 ],
 "metadata": {
  "kernelspec": {
   "display_name": "Python 3",
   "language": "python",
   "name": "python3"
  },
  "language_info": {
   "codemirror_mode": {
    "name": "ipython",
    "version": 3
   },
   "file_extension": ".py",
   "mimetype": "text/x-python",
   "name": "python",
   "nbconvert_exporter": "python",
   "pygments_lexer": "ipython3",
   "version": "3.6.3"
  }
 },
 "nbformat": 4,
 "nbformat_minor": 2
}
