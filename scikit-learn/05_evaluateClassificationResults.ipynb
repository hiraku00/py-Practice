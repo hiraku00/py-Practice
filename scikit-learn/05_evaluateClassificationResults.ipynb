{
 "cells": [
  {
   "cell_type": "markdown",
   "metadata": {},
   "source": [
    "<div style=\"font-size:20px; color:pink; margin:20px\">\n",
    "scikit-learn でクラス分類結果を評価する\n",
    "</div>\n",
    "<div style=\"font-size:14px; color:white; margin:20px\">\n",
    "本ページでは、Python の機械学習ライブラリの scikit-learn を用いて、<br>\n",
    "クラス分類 (Classification) を行った際の識別結果 (予測結果) の精度を評価する方法を紹介します。<br>\n",
    "</div>"
   ]
  },
  {
   "cell_type": "markdown",
   "metadata": {},
   "source": [
    "<div style=\"font-size:20px; color:pink; margin:20px\">\n",
    "混同行列 (Confusion matrix)\n",
    "</div>\n",
    "<div style=\"font-size:14px; color:white; margin:20px\">\n",
    "機械学習を用いたクラス分類の精度を評価するには、混同行列(Confusion matrix,読み方は「コンフュージョン・マトリックス」)<br>\n",
    "を作成して、正しく識別できた件数、誤って識別した件数を比較することが一般的です。<br>\n",
    "<br>\n",
    "以下の表は、電子メールのスパムフィルタ (迷惑メールフィルタ) の精度評価を行なう場合の混同行列の例で説明します。<br>\n",
    "混同行列は横方向に識別モデルが算出した識別結果、縦に実際の値 (正解データ) を記します。<br>\n",
    "<br>\n",
    "例えば、スパムフィルタの場合、<br>\n",
    "横方向に「スパム、またはスパムでないとモデルが識別した件数」、<br>\n",
    "縦方向に「実際にそのメールがスパムであったか、またはスパムでなかったか」を記します。\n",
    "\n",
    "<p><a href=\"http://pythondatascience.plavox.info/wp-content/uploads/2017/10/precision1.png\" rel=\"attachment wp-att-1630\"><img src=\"http://pythondatascience.plavox.info/wp-content/uploads/2017/10/precision1-1024x264.png\" alt=\"precision1\" width=\"640\" height=\"165\" class=\"alignnone size-large wp-image-1630\" srcset=\"https://pythondatascience.plavox.info/wp-content/uploads/2017/10/precision1-300x77.png 300w, https://pythondatascience.plavox.info/wp-content/uploads/2017/10/precision1-768x198.png 768w, https://pythondatascience.plavox.info/wp-content/uploads/2017/10/precision1-1024x264.png 1024w, https://pythondatascience.plavox.info/wp-content/uploads/2017/10/precision1.png 1189w\" sizes=\"(max-width: 640px) 100vw, 640px\" /></a></p>\n",
    "<p style=\"text-align:center\">図：混同行列の例</p>\n",
    "<p>なお、ブログ記事のカテゴリ分類など、二値分類でない多クラスの分類 (=多値分類) の場合は以下のような表を作成する場合もあります。</p>\n",
    "<p><a href=\"http://pythondatascience.plavox.info/wp-content/uploads/2017/10/precision2.png\" rel=\"attachment wp-att-1645\"><img src=\"http://pythondatascience.plavox.info/wp-content/uploads/2017/10/precision2-1024x345.png\" alt=\"precision2\" width=\"640\" height=\"216\" class=\"alignnone size-large wp-image-1645\" srcset=\"https://pythondatascience.plavox.info/wp-content/uploads/2017/10/precision2-300x101.png 300w, https://pythondatascience.plavox.info/wp-content/uploads/2017/10/precision2-768x259.png 768w, https://pythondatascience.plavox.info/wp-content/uploads/2017/10/precision2-1024x345.png 1024w, https://pythondatascience.plavox.info/wp-content/uploads/2017/10/precision2.png 1250w\" sizes=\"(max-width: 640px) 100vw, 640px\" /></a></p>\n",
    "<p style=\"text-align:center\">図：混同行列の例 (多クラスの場合)</p>\n",
    "<p>※ 本ページでは、横に識別結果、縦に実際の値を記載しましたが、縦横の記載に決まりはなく、横に実際の値、縦に識別家結果を記載する場合もあります。</p>\n",
    "</div>"
   ]
  },
  {
   "cell_type": "markdown",
   "metadata": {},
   "source": [
    "<div style=\"font-size:20px; color:pink; margin:20px\">\n",
    "混同行列を作成\n",
    "</div>\n",
    "<div style=\"font-size:14px; color:white; margin:20px\">\n",
    "scikit-learn には、混同行列を作成するメソッドとして、sklearn.metrics.confusion_matrix があります。<br>\n",
    "<br>\n",
    "以下の例では、スパムフィルタを例に、混同行列を作成します。<br>\n",
    "</div>"
   ]
  },
  {
   "cell_type": "code",
   "execution_count": 1,
   "metadata": {},
   "outputs": [
    {
     "data": {
      "text/plain": [
       "array([[4, 2],\n",
       "       [1, 3]])"
      ]
     },
     "execution_count": 1,
     "metadata": {},
     "output_type": "execute_result"
    }
   ],
   "source": [
    "from sklearn.metrics import confusion_matrix\n",
    "y_true = [0, 0, 0, 0, 1, 1, 1, 0, 1, 0] # 実際の値(0:スパムでない, 1:スパム)\n",
    "y_pred = [0, 0, 0, 0, 1, 1, 1, 1, 0, 1] # 識別結果(0:スパムでない, 1:スパム)\n",
    "confusion_matrix(y_true, y_pred)"
   ]
  },
  {
   "cell_type": "markdown",
   "metadata": {},
   "source": [
    "<div style=\"font-size:20px; color:pink; margin:20px\">\n",
    "</div>\n",
    "<div style=\"font-size:14px; color:white; margin:20px\">\n",
    "<p></p>\n",
    "<p>これは、下記の混同行列を意味します。</p>\n",
    "<p><a href=\"http://pythondatascience.plavox.info/wp-content/uploads/2017/10/precision3.png\" rel=\"attachment wp-att-1632\"><img src=\"http://pythondatascience.plavox.info/wp-content/uploads/2017/10/precision3-1024x264.png\" alt=\"precision3\" width=\"640\" height=\"165\" class=\"alignnone size-large wp-image-1632\" srcset=\"https://pythondatascience.plavox.info/wp-content/uploads/2017/10/precision3-300x77.png 300w, https://pythondatascience.plavox.info/wp-content/uploads/2017/10/precision3-768x198.png 768w, https://pythondatascience.plavox.info/wp-content/uploads/2017/10/precision3-1024x264.png 1024w, https://pythondatascience.plavox.info/wp-content/uploads/2017/10/precision3.png 1189w\" sizes=\"(max-width: 640px) 100vw, 640px\" /></a></p>\n",
    "<p style=\"text-align:center\">図：混同行列の例</p>\n",
    "\n",
    "\n",
    "</div>"
   ]
  },
  {
   "cell_type": "markdown",
   "metadata": {},
   "source": [
    "<div style=\"font-size:20px; color:pink; margin:20px\">\n",
    "多クラスの混同行列\n",
    "</div>\n",
    "<div style=\"font-size:14px; color:white; margin:20px\">\n",
    "多クラスの場合も扱うことができます。<br>\n",
    "以下例では、ブログの記事が、<br>\n",
    "政治 (P: Polictics)、<br>\n",
    "経済 (E, Economics)、<br>\n",
    "スポーツ (S:Sports)<br>\n",
    "のいずれになるかを記事の内容から識別した場合は、以下の例のようになります。<br>\n",
    "<br>\n",
    "</div>"
   ]
  },
  {
   "cell_type": "code",
   "execution_count": 2,
   "metadata": {},
   "outputs": [
    {
     "data": {
      "text/plain": [
       "array([[1, 2, 0],\n",
       "       [1, 2, 0],\n",
       "       [0, 0, 3]])"
      ]
     },
     "execution_count": 2,
     "metadata": {},
     "output_type": "execute_result"
    }
   ],
   "source": [
    "y_true = [\"P\", \"P\", \"P\", \"E\", \"E\", \"E\", \"S\", \"S\", \"S\"] # 実際の分類\n",
    "y_pred = [\"P\", \"E\", \"E\", \"E\", \"E\", \"P\", \"S\", \"S\", \"S\"] # 機械学習で識別した分類\n",
    "confusion_matrix(y_true, y_pred, labels=[\"P\", \"E\", \"S\"])"
   ]
  },
  {
   "cell_type": "markdown",
   "metadata": {},
   "source": [
    "<div style=\"font-size:20px; color:pink; margin:20px\">\n",
    "</div>\n",
    "<div style=\"font-size:14px; color:white; margin:20px\">\n",
    "\n",
    "<p>※ パラメータ <code>labels</code> は、表示する順序を制御します。<br />\n",
    "※ パラメータ <code>labels</code> を指定しなかった場合の並び順は、ABC 順になります。日本語の場合は文字コードの順序によって決定されます。</p>\n",
    "<p>これは、下記の混同行列を意味します。</p>\n",
    "<p><a href=\"http://pythondatascience.plavox.info/wp-content/uploads/2017/10/precision4.png\" rel=\"attachment wp-att-1644\"><img src=\"http://pythondatascience.plavox.info/wp-content/uploads/2017/10/precision4-1024x343.png\" alt=\"precision4\" width=\"640\" height=\"214\" class=\"alignnone size-large wp-image-1644\" srcset=\"https://pythondatascience.plavox.info/wp-content/uploads/2017/10/precision4-768x257.png 768w, https://pythondatascience.plavox.info/wp-content/uploads/2017/10/precision4-1024x343.png 1024w, https://pythondatascience.plavox.info/wp-content/uploads/2017/10/precision4.png 1256w\" sizes=\"(max-width: 640px) 100vw, 640px\" /></a></p>\n",
    "<p style=\"text-align:center\">図：混同行列の例 (多クラスの場合)</p>\n",
    "<p>混同行列を作成することで、作成したモデルが実際に正しく識別できている性能を持っているのか、誤って識別されているケースにはどういったケースが多いのかが、一目でわかるようになります。</p>\n",
    "</div>"
   ]
  },
  {
   "cell_type": "markdown",
   "metadata": {},
   "source": [
    "<div style=\"font-size:20px; color:pink; margin:20px\">\n",
    "混同行列を解釈するための指標\n",
    "</div>\n",
    "<div style=\"font-size:14px; color:white; margin:20px\">\n",
    "混同行列を解釈するには、次に示すいくつかの指標を用います。<br>\n",
    "ここでは、識別結果の正解/不正解で 2 クラスに分類した混同行列の各マスを以下のように呼びます。<br>\n",
    "<br>\n",
    "<p><a href=\"http://pythondatascience.plavox.info/wp-content/uploads/2017/10/precision5.png\" rel=\"attachment wp-att-1634\"><img src=\"http://pythondatascience.plavox.info/wp-content/uploads/2017/10/precision5-1024x311.png\" alt=\"precision5\" width=\"640\" height=\"194\" class=\"alignnone size-large wp-image-1634\" srcset=\"https://pythondatascience.plavox.info/wp-content/uploads/2017/10/precision5-300x91.png 300w, https://pythondatascience.plavox.info/wp-content/uploads/2017/10/precision5-768x233.png 768w, https://pythondatascience.plavox.info/wp-content/uploads/2017/10/precision5-1024x311.png 1024w, https://pythondatascience.plavox.info/wp-content/uploads/2017/10/precision5.png 1189w\" sizes=\"(max-width: 640px) 100vw, 640px\" /></a></p>\n",
    "<p style=\"text-align:center\">図：混同行列を解釈するための指標</p>\n",
    "<h4>真陽性 : TP (True-Positive)</h4>\n",
    "<p>ポジティブに分類すべきアイテムを正しくポジティブに分類できた件数を指します。<br />\n",
    "スパムフィルタの場合、「スパム」と分類すべきメールを「スパム」のフォルダに正しく分類できた件数を指します。</p>\n",
    "<h4>真陰性: TN (True-Negative)</h4>\n",
    "<p>ネガティブに分類すべきアイテムを正しくネガティブに分類できた件数を指します。<br />\n",
    "スパムフィルタの場合、「スパムでない」と分類すべきメールを「スパムでない」のフォルダに正しく分類できた件数を指します。</p>\n",
    "<h4>偽陽性: FP (False-Positive)</h4>\n",
    "<p>ネガティブに分類すべきアイテムを誤ってポジティブに分類した件数を指します。<br />\n",
    "スパムフィルタの場合、「スパムでない」と分類すべきメールを「スパム」のフォルダに誤って分類した件数を指します。</p>\n",
    "<h4>偽陰性: FN (False-Negative)</h4>\n",
    "<p>ポジティブに分類すべきアイテムを誤ってネガティブに分類した件数を指します。<br />\n",
    "スパムフィルタの場合、「スパム」に分類すべきメールを「スパムでない」のフォルダに誤って分類した件数を指します。</p>\n",
    "<h4>TP, TN, FP, FN を求める</h4>\n",
    "<p>scikit-learn では、以下のようなコードで混同行列からそれぞれの値を取得できます。</p>\n",
    "</div>"
   ]
  },
  {
   "cell_type": "code",
   "execution_count": 4,
   "metadata": {},
   "outputs": [
    {
     "data": {
      "text/plain": [
       "(4, 2, 1, 3)"
      ]
     },
     "execution_count": 4,
     "metadata": {},
     "output_type": "execute_result"
    }
   ],
   "source": [
    "from sklearn.metrics import confusion_matrix\n",
    "y_true = [0, 0, 0, 0, 1, 1, 1, 0, 1, 0]\n",
    "y_pred = [0, 0, 0, 0, 1, 1, 1, 1, 0, 1]\n",
    "tp, fn, fp, tn = confusion_matrix(y_true, y_pred).ravel()\n",
    "(tp, fn, fp, tn)"
   ]
  },
  {
   "cell_type": "markdown",
   "metadata": {},
   "source": [
    "<div style=\"font-size:20px; color:pink; margin:20px\">\n",
    "識別精度を評価するための指標\n",
    "</div>\n",
    "<div style=\"font-size:14px; color:white; margin:20px\">\n",
    "上記で説明した TP, TN, FP, FN を用いて、識別精度を評価するための指標がいくつかあります。<br>\n",
    "本ページでは、主要な指標のみを紹介します。<br>\n",
    "本ページにない指標は、Wikipedia(英語版)のConfusion matrix – Wikipediaの記事に詳しく記されているので、<br>\n",
    "参考にしましょう。\n",
    "</div>"
   ]
  },
  {
   "cell_type": "markdown",
   "metadata": {},
   "source": [
    "<div style=\"font-size:20px; color:pink; margin:20px\">\n",
    "</div>\n",
    "<div style=\"font-size:14px; color:white; margin:20px\">\n",
    "正解率 (Accuracy)<br>\n",
    "正解率 (Accuracy) とは、「本来ポジティブに分類すべきアイテムをポジティブに分類し、<br>\n",
    "本来ネガティブに分類すべきアイテムをネガティブに分類できた割合」を示し、以下の式で表されます。<br>\n",
    "<br>\n",
    "Accuracy = (TP + TN) / (TP + TN + FP + FN)<br>\n",
    "<br>\n",
    "scikit-learn には sklearn.metrics.accuracy_score として、計算用のメソッドが実装されています。<br>\n",
    "</div>"
   ]
  },
  {
   "cell_type": "code",
   "execution_count": 5,
   "metadata": {},
   "outputs": [
    {
     "data": {
      "text/plain": [
       "0.69999999999999996"
      ]
     },
     "execution_count": 5,
     "metadata": {},
     "output_type": "execute_result"
    }
   ],
   "source": [
    "from sklearn.metrics import accuracy_score\n",
    "y_true = [0, 0, 0, 0, 1, 1, 1, 0, 1, 0]\n",
    "y_pred = [0, 0, 0, 0, 1, 1, 1, 1, 0, 1]\n",
    "accuracy_score(y_true, y_pred)"
   ]
  },
  {
   "cell_type": "markdown",
   "metadata": {},
   "source": [
    "<div style=\"font-size:20px; color:pink; margin:20px\">\n",
    "</div>\n",
    "<div style=\"font-size:14px; color:white; margin:20px\">\n",
    "<h4>精度 (Precision)</h4>\n",
    "<p><b>精度 (Precision)</b> とは、「ポジティブに分類されたアイテムのうち、実際にポジティブであったアイテムの割合」を示し、以下の式で表されます。</p>\n",
    "<p>Precision = TP / (TP + FP)</p>\n",
    "<p>scikit-learn には <code>sklearn.metrics.precision_score</code> として、計算用のメソッドが実装されています。</p>\n",
    "</div>"
   ]
  },
  {
   "cell_type": "code",
   "execution_count": 6,
   "metadata": {},
   "outputs": [
    {
     "data": {
      "text/plain": [
       "0.59999999999999998"
      ]
     },
     "execution_count": 6,
     "metadata": {},
     "output_type": "execute_result"
    }
   ],
   "source": [
    "from sklearn.metrics import precision_score\n",
    "y_true = [0, 0, 0, 0, 1, 1, 1, 0, 1, 0]\n",
    "y_pred = [0, 0, 0, 0, 1, 1, 1, 1, 0, 1]\n",
    "precision_score(y_true, y_pred)"
   ]
  },
  {
   "cell_type": "markdown",
   "metadata": {},
   "source": [
    "<div style=\"font-size:20px; color:pink; margin:20px\">\n",
    "</div>\n",
    "<div style=\"font-size:14px; color:white; margin:20px\">\n",
    "<h4>検出率 (Recall)</h4>\n",
    "<p><b>検出率 (Recall)</b> とは、「本来ポジティブに分類すべきアイテムを、正しくポジティブに分類できたアイテムの割合」を示し、以下の式で表されます。<br />\n",
    "検出率は、<b>真陽性率 (TPR, True-Positive Rate)</b> または、<b>感度 (Sensitivity)</b> とも呼ばれます。</p>\n",
    "<p>Recall = TPR = Sensitivity = TP / (TP + FN) </p>\n",
    "<p>scikit-learn には <code>sklearn.metrics.recall_score</code> として、計算用のメソッドが実装されています。</p>\n",
    "</div>"
   ]
  },
  {
   "cell_type": "code",
   "execution_count": 7,
   "metadata": {},
   "outputs": [
    {
     "data": {
      "text/plain": [
       "0.75"
      ]
     },
     "execution_count": 7,
     "metadata": {},
     "output_type": "execute_result"
    }
   ],
   "source": [
    "from sklearn.metrics import recall_score\n",
    "y_true = [0, 0, 0, 0, 1, 1, 1, 0, 1, 0]\n",
    "y_pred = [0, 0, 0, 0, 1, 1, 1, 1, 0, 1]\n",
    "recall_score(y_true, y_pred)"
   ]
  },
  {
   "cell_type": "markdown",
   "metadata": {},
   "source": [
    "<div style=\"font-size:20px; color:pink; margin:20px\">\n",
    "</div>\n",
    "<div style=\"font-size:14px; color:white; margin:20px\">\n",
    "<h4>F 値</h4>\n",
    "<p><b>F 値 (F-measure, F-score, F1 Score とも呼ばれます)</b> とは、精度 (Precision) と検出率 (Recall) をバランス良く持ち合わせているかを示す指標です。つまり、精度は高くても、検出率が低いモデルでないか、逆に、検出率は高くても、精度が低くなっていないか、といった評価を示します。</p>\n",
    "<p>F 値は、以下の式のように、検出精度 (Precision) と、検出率 (Recall) の調和平均で求められ、0 〜 1 の間の数値で出力され、0 の場合最も悪い評価、1 の場合最も良い評価となります。</p>\n",
    "<p>F1 = 2 * (precision * recall) / (precision + recall)</p>\n",
    "<p>scikit-learn には <code>sklearn.metrics.f1_score</code> として、計算用のメソッドが実装されています。</p>\n",
    "</div>"
   ]
  },
  {
   "cell_type": "code",
   "execution_count": 8,
   "metadata": {},
   "outputs": [
    {
     "data": {
      "text/plain": [
       "0.66666666666666652"
      ]
     },
     "execution_count": 8,
     "metadata": {},
     "output_type": "execute_result"
    }
   ],
   "source": [
    "from sklearn.metrics import f1_score\n",
    "y_true = [0, 0, 0, 0, 1, 1, 1, 0, 1, 0]\n",
    "y_pred = [0, 0, 0, 0, 1, 1, 1, 1, 0, 1]\n",
    "f1_score(y_true, y_pred)"
   ]
  },
  {
   "cell_type": "code",
   "execution_count": null,
   "metadata": {
    "collapsed": true
   },
   "outputs": [],
   "source": []
  }
 ],
 "metadata": {
  "kernelspec": {
   "display_name": "Python 3",
   "language": "python",
   "name": "python3"
  },
  "language_info": {
   "codemirror_mode": {
    "name": "ipython",
    "version": 3
   },
   "file_extension": ".py",
   "mimetype": "text/x-python",
   "name": "python",
   "nbconvert_exporter": "python",
   "pygments_lexer": "ipython3",
   "version": "3.6.3"
  }
 },
 "nbformat": 4,
 "nbformat_minor": 2
}
