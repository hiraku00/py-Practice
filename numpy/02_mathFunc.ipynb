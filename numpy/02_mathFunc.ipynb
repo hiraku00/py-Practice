{
 "cells": [
  {
   "cell_type": "markdown",
   "metadata": {},
   "source": [
    "<div style=\"font-size:20px; color:pink; margin:20px\">\n",
    "三角関数\n",
    "</div>\n",
    "<div style=\"font-size:14px; color:white; margin:20px\">\n",
    "正弦関数 (sin(x), サイン) 、<br>\n",
    "余弦関数 (cos(x), コサイン)、<br>\n",
    "正接関数 (tan(x), タンジェント) <br>\n",
    "を求める関数として、それぞれ、np.sin(x) 、np.cos(x) があります。<br>\n",
    "なお、x はラジアンで指定する必要があるため、度はラジアンに変換する必要があります。<br>\n",
    "</div>"
   ]
  },
  {
   "cell_type": "code",
   "execution_count": 5,
   "metadata": {
    "collapsed": true
   },
   "outputs": [],
   "source": [
    "import numpy as np"
   ]
  },
  {
   "cell_type": "code",
   "execution_count": 6,
   "metadata": {},
   "outputs": [
    {
     "data": {
      "text/plain": [
       "0.0"
      ]
     },
     "execution_count": 6,
     "metadata": {},
     "output_type": "execute_result"
    }
   ],
   "source": [
    "# sin(0)\n",
    "np.sin(0)"
   ]
  },
  {
   "cell_type": "code",
   "execution_count": 7,
   "metadata": {},
   "outputs": [
    {
     "data": {
      "text/plain": [
       "array([ 0.        ,  0.84147098])"
      ]
     },
     "execution_count": 7,
     "metadata": {},
     "output_type": "execute_result"
    }
   ],
   "source": [
    "# sin([0,1])\n",
    "np.sin([0,1])"
   ]
  },
  {
   "cell_type": "code",
   "execution_count": 12,
   "metadata": {},
   "outputs": [
    {
     "data": {
      "text/plain": [
       "1.0"
      ]
     },
     "execution_count": 12,
     "metadata": {},
     "output_type": "execute_result"
    }
   ],
   "source": [
    "# cos(0)\n",
    "np.cos(0)"
   ]
  },
  {
   "cell_type": "code",
   "execution_count": 13,
   "metadata": {},
   "outputs": [
    {
     "data": {
      "text/plain": [
       "array([ 1.        ,  0.54030231])"
      ]
     },
     "execution_count": 13,
     "metadata": {},
     "output_type": "execute_result"
    }
   ],
   "source": [
    "# cos([0,1])\n",
    "np.cos([0,1])"
   ]
  },
  {
   "cell_type": "code",
   "execution_count": 14,
   "metadata": {},
   "outputs": [
    {
     "data": {
      "text/plain": [
       "0.0"
      ]
     },
     "execution_count": 14,
     "metadata": {},
     "output_type": "execute_result"
    }
   ],
   "source": [
    "# tan(0)\n",
    "np.tan(0)"
   ]
  },
  {
   "cell_type": "code",
   "execution_count": 15,
   "metadata": {},
   "outputs": [
    {
     "data": {
      "text/plain": [
       "array([ 0.        ,  1.55740772])"
      ]
     },
     "execution_count": 15,
     "metadata": {},
     "output_type": "execute_result"
    }
   ],
   "source": [
    "# tan([0,1])\n",
    "np.tan([0,1])"
   ]
  },
  {
   "cell_type": "code",
   "execution_count": 18,
   "metadata": {},
   "outputs": [
    {
     "data": {
      "image/png": "[encoded data removed]",
      "text/plain": [
       "<matplotlib.figure.Figure at 0x11350a7f0>"
      ]
     },
     "metadata": {},
     "output_type": "display_data"
    }
   ],
   "source": [
    "import matplotlib.pylab as plt\n",
    "\n",
    "x = np.linspace(-np.pi, np.pi, 201)\n",
    "plt.plot(x, np.sin(x))\n",
    "plt.xlabel('Angle [rad]')\n",
    "plt.ylabel('sin(x)')\n",
    "plt.axis('tight')\n",
    "plt.show()"
   ]
  },
  {
   "cell_type": "markdown",
   "metadata": {},
   "source": [
    "<div style=\"font-size:20px; color:pink; margin:20px\">\n",
    "逆三角関数\n",
    "</div>\n",
    "<div style=\"font-size:14px; color:white; margin:20px\">\n",
    "逆正弦関数 (インバース・サイン, inverse sin, sin^-1, arcsin)、<br>\n",
    "逆余弦関数 (インバース・コサイン, inverse cosine, cos^-1, arccos)、<br>\n",
    "逆正接関数 (インバース・タンジェント, inverse tangent, cos^-1, arccos)<br>\n",
    "を計算する関数として、np.arcsin(x), np.arccos(x), np.arctan(x) があります。<br>\n",
    "</div>"
   ]
  },
  {
   "cell_type": "code",
   "execution_count": 20,
   "metadata": {},
   "outputs": [
    {
     "data": {
      "text/plain": [
       "1.5707963267948966"
      ]
     },
     "execution_count": 20,
     "metadata": {},
     "output_type": "execute_result"
    }
   ],
   "source": [
    "# arcsin(1)\n",
    "np.arcsin(1)"
   ]
  },
  {
   "cell_type": "code",
   "execution_count": 21,
   "metadata": {},
   "outputs": [
    {
     "data": {
      "text/plain": [
       "array([-1.57079633,  0.        ,  1.57079633])"
      ]
     },
     "execution_count": 21,
     "metadata": {},
     "output_type": "execute_result"
    }
   ],
   "source": [
    "# arcsin([-1, 0, 1])\n",
    "np.arcsin([-1, 0, 1]) "
   ]
  },
  {
   "cell_type": "code",
   "execution_count": 22,
   "metadata": {},
   "outputs": [
    {
     "data": {
      "text/plain": [
       "0.0"
      ]
     },
     "execution_count": 22,
     "metadata": {},
     "output_type": "execute_result"
    }
   ],
   "source": [
    "# arccos(1)\n",
    "np.arccos(1)"
   ]
  },
  {
   "cell_type": "code",
   "execution_count": 23,
   "metadata": {},
   "outputs": [
    {
     "data": {
      "text/plain": [
       "array([ 3.14159265,  1.57079633,  0.        ])"
      ]
     },
     "execution_count": 23,
     "metadata": {},
     "output_type": "execute_result"
    }
   ],
   "source": [
    "# arccos([-1, 0, 1])\n",
    "np.arccos([-1, 0, 1])"
   ]
  },
  {
   "cell_type": "code",
   "execution_count": 24,
   "metadata": {},
   "outputs": [
    {
     "data": {
      "text/plain": [
       "0.78539816339744828"
      ]
     },
     "execution_count": 24,
     "metadata": {},
     "output_type": "execute_result"
    }
   ],
   "source": [
    "# arctan(1)\n",
    "np.arctan(1)"
   ]
  },
  {
   "cell_type": "code",
   "execution_count": 25,
   "metadata": {},
   "outputs": [
    {
     "data": {
      "text/plain": [
       "-0.78539816339744828"
      ]
     },
     "execution_count": 25,
     "metadata": {},
     "output_type": "execute_result"
    }
   ],
   "source": [
    "# arctan([-1, 0, 1])\n",
    "np.arctan(-1)"
   ]
  },
  {
   "cell_type": "markdown",
   "metadata": {},
   "source": [
    "<div style=\"font-size:20px; color:pink; margin:20px\">\n",
    "ラジアン ⇔ 度 の変換\n",
    "</div>\n",
    "<div style=\"font-size:14px; color:white; margin:20px\">\n",
    "NumPy では、<br>\n",
    "np.radians(x), np.deg2rad(x), np.rad2deg(x) 関数で、弧度法(rad)と度数法 (°) を変換します。<br>\n",
    "なお、np.radians(x), np.deg2rad(x) の 2 つの関数は同じ結果を返します。<br>\n",
    "</div>"
   ]
  },
  {
   "cell_type": "code",
   "execution_count": 33,
   "metadata": {},
   "outputs": [
    {
     "name": "stdout",
     "output_type": "stream",
     "text": [
      "0.0\n",
      "[ 1.          0.          1.57079633]\n",
      "0.0\n",
      "[ 1.          0.          1.57079633]\n",
      "0.0\n",
      "[ 180.           57.29577951   28.64788976]\n"
     ]
    }
   ],
   "source": [
    "# 度からラジアンへ(np.radians)\n",
    "print(np.radians(0))\n",
    "print(np.radians([np.rad2deg(1), 0, 90]))\n",
    "\n",
    "# 度からラジアンへ(np.deg2rad)\n",
    "print(np.deg2rad(0))\n",
    "print(np.deg2rad([np.rad2deg(1), 0, 90]))\n",
    "\n",
    "# ラジアンから度へ\n",
    "print(np.rad2deg(0))\n",
    "print(np.rad2deg([np.deg2rad(180), 1, 0.5]))"
   ]
  },
  {
   "cell_type": "markdown",
   "metadata": {},
   "source": [
    "<div style=\"font-size:20px; color:pink; margin:20px\">\n",
    "指数関数、対数関数\n",
    "</div>\n",
    "<div style=\"font-size:14px; color:white; margin:20px\">\n",
    "NumPy には、指数関数として、e(x) を計算する np.exp() があります。\n",
    "</div>"
   ]
  },
  {
   "cell_type": "code",
   "execution_count": 34,
   "metadata": {},
   "outputs": [
    {
     "name": "stdout",
     "output_type": "stream",
     "text": [
      "1.0\n",
      "2.71828182846\n"
     ]
    }
   ],
   "source": [
    "# e(0)\n",
    "print(np.exp(0))\n",
    "print(np.exp(1))"
   ]
  },
  {
   "cell_type": "markdown",
   "metadata": {},
   "source": [
    "<div style=\"font-size:14px; color:white; margin:20px\">\n",
    "NumPy には、対数関数として以下が定義されています。<br>\n",
    "e が底 (Log_e(x)) の np.log(x)<br>\n",
    "2 が底（Log_2(x)）の np.log2(x)<br>\n",
    "10 が底（Log_10(x)）の np.log10(x)<br>\n",
    "なお、定数 e は、np.e として定義されています。<br>\n",
    "</div>"
   ]
  },
  {
   "cell_type": "code",
   "execution_count": 39,
   "metadata": {},
   "outputs": [
    {
     "name": "stdout",
     "output_type": "stream",
     "text": [
      "2.718281828459045\n",
      "0.0\n",
      "[  0.   1.   2. -inf]\n",
      "1.0\n",
      "[ 0.          1.44269504  2.88539008        -inf]\n",
      "3.0\n",
      "10.0\n"
     ]
    },
    {
     "name": "stderr",
     "output_type": "stream",
     "text": [
      "/Users/hiraku/anaconda3/lib/python3.6/site-packages/ipykernel_launcher.py:6: RuntimeWarning: divide by zero encountered in log\n",
      "  \n",
      "/Users/hiraku/anaconda3/lib/python3.6/site-packages/ipykernel_launcher.py:10: RuntimeWarning: divide by zero encountered in log2\n",
      "  # Remove the CWD from sys.path while we load stuff.\n"
     ]
    }
   ],
   "source": [
    "# eを出力\n",
    "print(np.e)\n",
    "\n",
    "# eが底の指数関数(Log_e(x))\n",
    "print(np.log(1))\n",
    "print(np.log([1, np.e, np.e ** 2, 0]))\n",
    "\n",
    "# 2が底の指数関数(Log_2(x))\n",
    "print(np.log2(2))\n",
    "print(np.log2([1, np.e, np.e ** 2, 0]))\n",
    "\n",
    "# 10が底の指数関数(Log_10(x))\n",
    "print(np.log10(1000))\n",
    "print(np.log10(1e+10))"
   ]
  },
  {
   "cell_type": "markdown",
   "metadata": {},
   "source": [
    "<div style=\"font-size:20px; color:pink; margin:20px\">\n",
    "剰余\n",
    "</div>\n",
    "<div style=\"font-size:14px; color:white; margin:20px\">\n",
    "NumPy で剰余 (割り算の余り) を求めるには、np.mod()があります。<br>\n",
    "なお、配列を用いない場合は、NumPy を利用せず、Python の関数のみで実現可能<br>\n",
    "</div>"
   ]
  },
  {
   "cell_type": "code",
   "execution_count": 41,
   "metadata": {},
   "outputs": [
    {
     "data": {
      "text/plain": [
       "array([1, 2, 0, 1, 2, 0])"
      ]
     },
     "execution_count": 41,
     "metadata": {},
     "output_type": "execute_result"
    }
   ],
   "source": [
    "# 配列 [1, 2, 3, 4, 5, 6] の各要素に対する 3 の剰余\n",
    "np.mod([1,2,3,4,5,6], 3)"
   ]
  },
  {
   "cell_type": "markdown",
   "metadata": {},
   "source": [
    "<div style=\"font-size:20px; color:pink; margin:20px\">\n",
    "四捨五入、切捨て、切り上げ\n",
    "</div>\n",
    "<div style=\"font-size:14px; color:white; margin:20px\">\n",
    "小数を整数に変換する方法としては、いくつかの方法があります。<br>\n",
    "四捨五入 np.round()<br>\n",
    "切り捨て np.trunc()<br>\n",
    "切り捨て np.floor()<br>\n",
    "切り上げ np.ceil()<br>\n",
    "ゼロに近いほうに丸める np.fix()<br>\n",
    "</div>"
   ]
  },
  {
   "cell_type": "code",
   "execution_count": 48,
   "metadata": {},
   "outputs": [],
   "source": [
    "a = np.array([-1.7, -1.5, -0.2, 0.2, 1.5, 1.7, 2.0])"
   ]
  },
  {
   "cell_type": "code",
   "execution_count": 49,
   "metadata": {},
   "outputs": [
    {
     "data": {
      "text/plain": [
       "array([-2., -2., -0.,  0.,  2.,  2.,  2.])"
      ]
     },
     "execution_count": 49,
     "metadata": {},
     "output_type": "execute_result"
    }
   ],
   "source": [
    "np.round(a)"
   ]
  },
  {
   "cell_type": "code",
   "execution_count": 44,
   "metadata": {},
   "outputs": [
    {
     "data": {
      "text/plain": [
       "array([-1., -1., -0.,  0.,  1.,  1.,  2.])"
      ]
     },
     "execution_count": 44,
     "metadata": {},
     "output_type": "execute_result"
    }
   ],
   "source": [
    "np.trunc(a)"
   ]
  },
  {
   "cell_type": "code",
   "execution_count": 45,
   "metadata": {},
   "outputs": [
    {
     "data": {
      "text/plain": [
       "array([-2., -2., -1.,  0.,  1.,  1.,  2.])"
      ]
     },
     "execution_count": 45,
     "metadata": {},
     "output_type": "execute_result"
    }
   ],
   "source": [
    "np.floor(a)"
   ]
  },
  {
   "cell_type": "code",
   "execution_count": 46,
   "metadata": {},
   "outputs": [
    {
     "data": {
      "text/plain": [
       "array([-1., -1., -0.,  1.,  2.,  2.,  2.])"
      ]
     },
     "execution_count": 46,
     "metadata": {},
     "output_type": "execute_result"
    }
   ],
   "source": [
    "np.ceil(a)"
   ]
  },
  {
   "cell_type": "code",
   "execution_count": 47,
   "metadata": {},
   "outputs": [
    {
     "data": {
      "text/plain": [
       "array([-1., -1., -0.,  0.,  1.,  1.,  2.])"
      ]
     },
     "execution_count": 47,
     "metadata": {},
     "output_type": "execute_result"
    }
   ],
   "source": [
    "np.fix(a)"
   ]
  },
  {
   "cell_type": "markdown",
   "metadata": {},
   "source": [
    "<div style=\"font-size:14px; color:white; margin:20px\">\n",
    "配列を用いない場合は、NumPy ではなく、 Python のみで実行可能\n",
    "</div>"
   ]
  },
  {
   "cell_type": "code",
   "execution_count": 66,
   "metadata": {},
   "outputs": [
    {
     "name": "stdout",
     "output_type": "stream",
     "text": [
      "2\n",
      "1\n",
      "1\n",
      "2\n"
     ]
    }
   ],
   "source": [
    "import math\n",
    "\n",
    "# 四捨五入\n",
    "print(round(1.7))\n",
    "# 切捨\n",
    "print(math.floor(1.7))\n",
    "print(math.trunc(1.7))\n",
    "# 切上\n",
    "print(math.ceil(1.7))"
   ]
  },
  {
   "cell_type": "markdown",
   "metadata": {},
   "source": [
    "<div style=\"font-size:20px; color:pink; margin:20px\">\n",
    "最大値、最小値\n",
    "</div>\n",
    "<div style=\"font-size:14px; color:white; margin:20px\">\n",
    "NumPy では、np.maximum , np.minimum 関数を利用して同じ長さの配列から、<br>\n",
    "各要素の最大値、最小値を抽出して新たな配列を作成します。<br>\n",
    "また、同様の働きをする関数で、np.fmax , np.fmin 関数は、<br>\n",
    "配列の要素に NaN (Not-a-Number) が含まれていた場合に、NaN を無視して数値を出力します。<br>\n",
    "</div>"
   ]
  },
  {
   "cell_type": "code",
   "execution_count": 69,
   "metadata": {},
   "outputs": [
    {
     "name": "stdout",
     "output_type": "stream",
     "text": [
      "[  2.   4.   6.  nan]\n",
      "[  1.   3.   5.  nan]\n",
      "[ 1.  3.  5.  7.]\n",
      "[ 2.  4.  6.  7.]\n",
      "6\n",
      "1\n"
     ]
    },
    {
     "name": "stderr",
     "output_type": "stream",
     "text": [
      "/Users/hiraku/anaconda3/lib/python3.6/site-packages/ipykernel_launcher.py:6: RuntimeWarning: invalid value encountered in maximum\n",
      "  \n",
      "/Users/hiraku/anaconda3/lib/python3.6/site-packages/ipykernel_launcher.py:7: RuntimeWarning: invalid value encountered in minimum\n",
      "  import sys\n",
      "/Users/hiraku/anaconda3/lib/python3.6/site-packages/ipykernel_launcher.py:10: RuntimeWarning: invalid value encountered in fmin\n",
      "  # Remove the CWD from sys.path while we load stuff.\n",
      "/Users/hiraku/anaconda3/lib/python3.6/site-packages/ipykernel_launcher.py:11: RuntimeWarning: invalid value encountered in fmax\n",
      "  # This is added back by InteractiveShellApp.init_path()\n"
     ]
    }
   ],
   "source": [
    "# 配列 a,b を定義\n",
    "a = [1, 4, 5, np.nan]\n",
    "b = [2, 3, 6, 7]\n",
    "\n",
    "# 各要素の最大値、最小値\n",
    "print(np.maximum(a, b))\n",
    "print(np.minimum(a, b))\n",
    "\n",
    "# 各要素の最大値、最小値(NoNを無視する)\n",
    "print(np.fmin(a, b))\n",
    "print(np.fmax(a, b))\n",
    "\n",
    "# なお、1つの配列の最大値、最小値はNumpyを使わずにも計算可能\n",
    "print(max([2,6,1,4,5,3]))\n",
    "print(min([2,6,1,4,5,3]))"
   ]
  },
  {
   "cell_type": "markdown",
   "metadata": {},
   "source": [
    "<div style=\"font-size:20px; color:pink; margin:20px\">\n",
    "平方根（ルート）、べき乗 (二乗, 三乗, n乗)\n",
    "</div>\n",
    "<div style=\"font-size:14px; color:white; margin:20px\">\n",
    "方根（√x）を求める関数として、np.sqrt(x) があります。\n",
    "</div>"
   ]
  },
  {
   "cell_type": "code",
   "execution_count": 71,
   "metadata": {},
   "outputs": [
    {
     "name": "stdout",
     "output_type": "stream",
     "text": [
      "4.0\n",
      "[ 1.  2.  3.]\n",
      "4.0\n"
     ]
    }
   ],
   "source": [
    "# √16\n",
    "print(np.sqrt(16))\n",
    "\n",
    "# 配列を引数に取ることも可能です。[√1, √4, √9]\n",
    "print(np.sqrt([1, 4, 9]))\n",
    "\n",
    "# 配列でなければ、Numpyを用いずに計算できます\n",
    "import math\n",
    "print(math.sqrt(16))"
   ]
  },
  {
   "cell_type": "markdown",
   "metadata": {},
   "source": [
    "<div style=\"font-size:20px; color:pink; margin:20px\">\n",
    "複素数\n",
    "</div>\n",
    "<div style=\"font-size:14px; color:white; margin:20px\">\n",
    "NumPy では複素数の計算にも対応しています。<br>\n",
    "複素数に関する関数として、<br>\n",
    "複素数の実数部を返す np.real() 、<br>\n",
    "虚数部を返す np.imag() 、<br>\n",
    "共役複素数 (複素共役, 虚数部の符号を逆にした複素数) を返す np.conj() <br>\n",
    "を紹介します。<br>\n",
    "</div>"
   ]
  },
  {
   "cell_type": "code",
   "execution_count": 72,
   "metadata": {},
   "outputs": [
    {
     "name": "stdout",
     "output_type": "stream",
     "text": [
      "1.0\n",
      "[ 2.  2.]\n",
      "2.0\n",
      "[ 3. -3.]\n",
      "(1-2j)\n",
      "[ 2.-3.j  2.+3.j]\n"
     ]
    }
   ],
   "source": [
    "# 1+2jの実数部(=1)を返す\n",
    "print(np.real(1+2j))\n",
    "# [2+3j, 2-3j]の実数部\n",
    "print(np.real([2+3j, 2-3j]))\n",
    "\n",
    " \n",
    "# 1+2j の虚数部 (=2) を返す\n",
    "print(np.imag(1 + 2j))\n",
    "# [2+3j, 2-3j] の虚数部\n",
    "print(np.imag([2+3j, 2-3j]))\n",
    " \n",
    "# 1+2j の共役複素数\n",
    "print(np.conj(1+2j))\n",
    "# [2+3j, 2-3j] の共役複素数\n",
    "print(np.conj([2+3j, 2-3j]))"
   ]
  },
  {
   "cell_type": "markdown",
   "metadata": {},
   "source": [
    "<div style=\"font-size:20px; color:pink; margin:20px\">\n",
    "絶対値\n",
    "</div>\n",
    "<div style=\"font-size:14px; color:white; margin:20px\">\n",
    "NumPy で絶対値 (負の数は正の数として出力、正の数は正の数として出力) を求めるには、np.absolute()があります。\n",
    "</div>"
   ]
  },
  {
   "cell_type": "code",
   "execution_count": 73,
   "metadata": {},
   "outputs": [
    {
     "name": "stdout",
     "output_type": "stream",
     "text": [
      "2\n",
      "[ 1.2  1.2]\n"
     ]
    }
   ],
   "source": [
    "# |-2|\n",
    "print(np.absolute(-2))\n",
    "\n",
    "# |[-1.2, 1.2]|\n",
    "print(np.absolute([-1.2, 1.2]))"
   ]
  },
  {
   "cell_type": "code",
   "execution_count": null,
   "metadata": {
    "collapsed": true
   },
   "outputs": [],
   "source": []
  }
 ],
 "metadata": {
  "kernelspec": {
   "display_name": "Python 3",
   "language": "python",
   "name": "python3"
  },
  "language_info": {
   "codemirror_mode": {
    "name": "ipython",
    "version": 3
   },
   "file_extension": ".py",
   "mimetype": "text/x-python",
   "name": "python",
   "nbconvert_exporter": "python",
   "pygments_lexer": "ipython3",
   "version": "3.6.3"
  }
 },
 "nbformat": 4,
 "nbformat_minor": 2
}
