{
 "cells": [
  {
   "cell_type": "markdown",
   "metadata": {},
   "source": [
    "<div style=\"font-size:20px; color:pink; margin:20px\">\n",
    "ベクトルのドット積 (点乗積)\n",
    "</div>\n",
    "<div style=\"font-size:14px; color:white; margin:20px\">\n",
    "ドット積 (a・b) は、np.dot(a, b) で計算できます。<br>\n",
    "ドット積は、1 次元配列ではベクトルの内積、2 次元配列では行列の積と同じ結果になります。<br>\n",
    "</div>"
   ]
  },
  {
   "cell_type": "code",
   "execution_count": 3,
   "metadata": {},
   "outputs": [
    {
     "name": "stdout",
     "output_type": "stream",
     "text": [
      "12\n",
      "13\n",
      "(-13+0j)\n",
      "[[4 1]\n",
      " [2 2]]\n"
     ]
    }
   ],
   "source": [
    "import numpy as np\n",
    "\n",
    "# 整数同士のドット積（通常の掛け算と同じになります）\n",
    "# 3・4\n",
    "print(np.dot(3,4))\n",
    "\n",
    "# 行列同士のドット積\n",
    "# (2, 3)・(2, 3)\n",
    "print(np.dot([2,3], [2,3]))\n",
    "\n",
    "# 複素数を扱うこともできます\n",
    "# (2j, 3j)・(2j, 3j)\n",
    "print(np.dot([2j, 3j], [2j, 3j]))\n",
    "\n",
    "# 2次元行列同士のドット積を計算できます。\n",
    "a = [[1,0], [0,1]]\n",
    "b = [[4,1], [2,2]]\n",
    "print(np.dot(a,b))\n"
   ]
  },
  {
   "cell_type": "markdown",
   "metadata": {},
   "source": [
    "<div style=\"font-size:20px; color:pink; margin:20px\">\n",
    "ベクトルの内積\n",
    "</div>\n",
    "<div style=\"font-size:14px; color:white; margin:20px\">\n",
    "ベクトルの内積 (a・b) は np.inner(a, b) のようにして計算できます。\n",
    "</div>"
   ]
  },
  {
   "cell_type": "code",
   "execution_count": 7,
   "metadata": {},
   "outputs": [
    {
     "name": "stdout",
     "output_type": "stream",
     "text": [
      "2\n",
      "[[[ 0  1  2  3]\n",
      "  [ 4  5  6  7]\n",
      "  [ 8  9 10 11]]\n",
      "\n",
      " [[12 13 14 15]\n",
      "  [16 17 18 19]\n",
      "  [20 21 22 23]]]\n",
      "[0 1 2 3]\n",
      "[[ 14  38  62]\n",
      " [ 86 110 134]]\n",
      "[[ 1.  0.]\n",
      " [ 0.  1.]]\n",
      "[[ 7.  0.]\n",
      " [ 0.  7.]]\n"
     ]
    }
   ],
   "source": [
    "# 通常のベクトル同士の内積\n",
    "# (1, 2, 3)・(0, 1, 0)\n",
    "a = np.array([1,2,3])\n",
    "b = np.array([0,1,0])\n",
    "print(np.inner(a,b))\n",
    "\n",
    "# 多次元ベクトルの内積を計算\n",
    "a = np.arange(24).reshape((2,3,4))\n",
    "print(a)\n",
    "b = np.arange(4)\n",
    "print(b)\n",
    "print(np.inner(a,b))\n",
    "\n",
    "# b がスカラーの場合は以下のように指定します\n",
    "a = np.eye(2)\n",
    "print(a)\n",
    "print(np.inner(np.eye(2), 7))"
   ]
  },
  {
   "cell_type": "markdown",
   "metadata": {},
   "source": [
    "<div style=\"font-size:20px; color:pink; margin:20px\">\n",
    "ベクトルの外積\n",
    "</div>\n",
    "<div style=\"font-size:14px; color:white; margin:20px\">\n",
    "ベクトルの外積 (a×b) は、np.outer(a, b) のようにして計算できます。\n",
    "</div>"
   ]
  },
  {
   "cell_type": "code",
   "execution_count": 8,
   "metadata": {},
   "outputs": [
    {
     "name": "stdout",
     "output_type": "stream",
     "text": [
      "[[-2. -1.  0.  1.  2.]\n",
      " [-2. -1.  0.  1.  2.]\n",
      " [-2. -1.  0.  1.  2.]\n",
      " [-2. -1.  0.  1.  2.]\n",
      " [-2. -1.  0.  1.  2.]]\n",
      "[[ 0.+2.j  0.+2.j  0.+2.j  0.+2.j  0.+2.j]\n",
      " [ 0.+1.j  0.+1.j  0.+1.j  0.+1.j  0.+1.j]\n",
      " [ 0.+0.j  0.+0.j  0.+0.j  0.+0.j  0.+0.j]\n",
      " [ 0.-1.j  0.-1.j  0.-1.j  0.-1.j  0.-1.j]\n",
      " [ 0.-2.j  0.-2.j  0.-2.j  0.-2.j  0.-2.j]]\n",
      "[[-2.+2.j -1.+2.j  0.+2.j  1.+2.j  2.+2.j]\n",
      " [-2.+1.j -1.+1.j  0.+1.j  1.+1.j  2.+1.j]\n",
      " [-2.+0.j -1.+0.j  0.+0.j  1.+0.j  2.+0.j]\n",
      " [-2.-1.j -1.-1.j  0.-1.j  1.-1.j  2.-1.j]\n",
      " [-2.-2.j -1.-2.j  0.-2.j  1.-2.j  2.-2.j]]\n",
      "[['a' 'aa' 'aaa']\n",
      " ['b' 'bb' 'bbb']\n",
      " ['c' 'cc' 'ccc']]\n"
     ]
    }
   ],
   "source": [
    "##マンデルブロット (Mandelbrot)\n",
    "rl = np.outer(np.ones((5,)), np.linspace(-2,2,5))\n",
    "print(rl)\n",
    "\n",
    "im = np.outer(1j*np.linspace(2,-2,5), np.ones((5,)))\n",
    "print(im)\n",
    "\n",
    "grid = rl + im\n",
    "print(grid)\n",
    "\n",
    "# 文字列をベクトルとして計算することもできます\n",
    "x = np.array(['a', 'b', 'c'], dtype=object)\n",
    "print(np.outer(x, [1,2,3]))"
   ]
  },
  {
   "cell_type": "code",
   "execution_count": null,
   "metadata": {
    "collapsed": true
   },
   "outputs": [],
   "source": []
  }
 ],
 "metadata": {
  "kernelspec": {
   "display_name": "Python 3",
   "language": "python",
   "name": "python3"
  },
  "language_info": {
   "codemirror_mode": {
    "name": "ipython",
    "version": 3
   },
   "file_extension": ".py",
   "mimetype": "text/x-python",
   "name": "python",
   "nbconvert_exporter": "python",
   "pygments_lexer": "ipython3",
   "version": "3.6.3"
  }
 },
 "nbformat": 4,
 "nbformat_minor": 2
}
